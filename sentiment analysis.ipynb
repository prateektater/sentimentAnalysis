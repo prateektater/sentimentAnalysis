{
 "cells": [
  {
   "cell_type": "code",
   "execution_count": null,
   "metadata": {},
   "outputs": [],
   "source": [
    "key = input(\"Enter your key\")"
   ]
  },
  {
   "cell_type": "code",
   "execution_count": null,
   "metadata": {},
   "outputs": [],
   "source": [
    "import requests"
   ]
  },
  {
   "cell_type": "code",
   "execution_count": null,
   "metadata": {},
   "outputs": [],
   "source": [
    "limit = input(\"enter max results\")\n",
    "videoId = input(\"enter video id\")\n",
    "googleApi = 'https://www.googleapis.com/youtube/v3/commentThreads?part=snippet&maxResults='+limit+'&videoId='+videoId+'&key='+key\n"
   ]
  },
  {
   "cell_type": "code",
   "execution_count": null,
   "metadata": {},
   "outputs": [],
   "source": [
    "googleApi"
   ]
  },
  {
   "cell_type": "code",
   "execution_count": 155,
   "metadata": {},
   "outputs": [],
   "source": [
    "page_info = requests.get(googleApi)"
   ]
  },
  {
   "cell_type": "code",
   "execution_count": 156,
   "metadata": {},
   "outputs": [
    {
     "data": {
      "text/plain": [
       "<Response [200]>"
      ]
     },
     "execution_count": 156,
     "metadata": {},
     "output_type": "execute_result"
    }
   ],
   "source": [
    "page_info"
   ]
  },
  {
   "cell_type": "code",
   "execution_count": 157,
   "metadata": {},
   "outputs": [
    {
     "data": {
      "text/plain": [
       "{'kind': 'youtube#commentThreadListResponse',\n",
       " 'etag': '\"XpPGQXPnxQJhLgs6enD_n8JR4Qk/cZCo7BX35opWAkvp4fXFSSzgHTA\"',\n",
       " 'nextPageToken': 'QURTSl9pMlMxSVU5WUxuUVRLR184NnNwa0NCQ0FydFNHbm81Z2RDcG1fSWo1TWFXOGFwSE42WUhCajFjUjhDRExmZXVHOWFScVVIOWU3NUJWckM1ckdrejhXM2NsbkFqMWtTRXpDSmtMcUZBV0tqZnV4Y0k0S1lfYVFNaE1sTG1hYzQ=',\n",
       " 'pageInfo': {'totalResults': 10, 'resultsPerPage': 10},\n",
       " 'items': [{'kind': 'youtube#commentThread',\n",
       "   'etag': '\"XpPGQXPnxQJhLgs6enD_n8JR4Qk/9cm1sfJU0bYOhoZJDt2ZfFvhQs8\"',\n",
       "   'id': 'UgzcXoFRK_pXTruvt254AaABAg',\n",
       "   'snippet': {'videoId': 'cCqum3nxbq8',\n",
       "    'topLevelComment': {'kind': 'youtube#comment',\n",
       "     'etag': '\"XpPGQXPnxQJhLgs6enD_n8JR4Qk/-iaaQ9xz9X4Q4nYrgcPyBTdANzw\"',\n",
       "     'id': 'UgzcXoFRK_pXTruvt254AaABAg',\n",
       "     'snippet': {'authorDisplayName': 'Suresh Kumar',\n",
       "      'authorProfileImageUrl': 'https://yt3.ggpht.com/-k-IVhBteKYg/AAAAAAAAAAI/AAAAAAAAAAA/RbAEBMRMesM/s28-c-k-no-mo-rj-c0xffffff/photo.jpg',\n",
       "      'authorChannelUrl': 'http://www.youtube.com/channel/UC5kOt1yQYSY-C08IHxP7wZQ',\n",
       "      'authorChannelId': {'value': 'UC5kOt1yQYSY-C08IHxP7wZQ'},\n",
       "      'videoId': 'cCqum3nxbq8',\n",
       "      'textDisplay': 'Awesome wow beautiful song',\n",
       "      'textOriginal': 'Awesome wow beautiful song',\n",
       "      'canRate': True,\n",
       "      'viewerRating': 'none',\n",
       "      'likeCount': 0,\n",
       "      'publishedAt': '2019-02-05T06:35:49.000Z',\n",
       "      'updatedAt': '2019-02-05T06:35:49.000Z'}},\n",
       "    'canReply': True,\n",
       "    'totalReplyCount': 0,\n",
       "    'isPublic': True}},\n",
       "  {'kind': 'youtube#commentThread',\n",
       "   'etag': '\"XpPGQXPnxQJhLgs6enD_n8JR4Qk/bFvTDfiq6COGFkk8iMWr-yBG16A\"',\n",
       "   'id': 'UgwBFL3FbdFUdzu3m4p4AaABAg',\n",
       "   'snippet': {'videoId': 'cCqum3nxbq8',\n",
       "    'topLevelComment': {'kind': 'youtube#comment',\n",
       "     'etag': '\"XpPGQXPnxQJhLgs6enD_n8JR4Qk/XQt1ubyUA9aqp-0HPY1Rg7EEgAc\"',\n",
       "     'id': 'UgwBFL3FbdFUdzu3m4p4AaABAg',\n",
       "     'snippet': {'authorDisplayName': 'Sakshi Chavan',\n",
       "      'authorProfileImageUrl': 'https://yt3.ggpht.com/-gx9G_HsK73c/AAAAAAAAAAI/AAAAAAAAAAA/UIEoDCo0wMA/s28-c-k-no-mo-rj-c0xffffff/photo.jpg',\n",
       "      'authorChannelUrl': 'http://www.youtube.com/channel/UC8NqoIWOI9gnMgxqeKoHVxg',\n",
       "      'authorChannelId': {'value': 'UC8NqoIWOI9gnMgxqeKoHVxg'},\n",
       "      'videoId': 'cCqum3nxbq8',\n",
       "      'textDisplay': 'Awesome songs👏👏👏👍',\n",
       "      'textOriginal': 'Awesome songs👏👏👏👍',\n",
       "      'canRate': True,\n",
       "      'viewerRating': 'none',\n",
       "      'likeCount': 0,\n",
       "      'publishedAt': '2019-02-04T19:50:20.000Z',\n",
       "      'updatedAt': '2019-02-04T19:50:20.000Z'}},\n",
       "    'canReply': True,\n",
       "    'totalReplyCount': 0,\n",
       "    'isPublic': True}},\n",
       "  {'kind': 'youtube#commentThread',\n",
       "   'etag': '\"XpPGQXPnxQJhLgs6enD_n8JR4Qk/NZAXC1OBzSyA-ZWcBm1T8aeBuYc\"',\n",
       "   'id': 'UgyD-nrCRMSDr0UuHcd4AaABAg',\n",
       "   'snippet': {'videoId': 'cCqum3nxbq8',\n",
       "    'topLevelComment': {'kind': 'youtube#comment',\n",
       "     'etag': '\"XpPGQXPnxQJhLgs6enD_n8JR4Qk/70SyvmN7pCE1TdUgUM0Xc0V8x0o\"',\n",
       "     'id': 'UgyD-nrCRMSDr0UuHcd4AaABAg',\n",
       "     'snippet': {'authorDisplayName': 'Sakshi Chavan',\n",
       "      'authorProfileImageUrl': 'https://yt3.ggpht.com/-gx9G_HsK73c/AAAAAAAAAAI/AAAAAAAAAAA/UIEoDCo0wMA/s28-c-k-no-mo-rj-c0xffffff/photo.jpg',\n",
       "      'authorChannelUrl': 'http://www.youtube.com/channel/UC8NqoIWOI9gnMgxqeKoHVxg',\n",
       "      'authorChannelId': {'value': 'UC8NqoIWOI9gnMgxqeKoHVxg'},\n",
       "      'videoId': 'cCqum3nxbq8',\n",
       "      'textDisplay': 'One of my favourite song 😊😊😊😊',\n",
       "      'textOriginal': 'One of my favourite song 😊😊😊😊',\n",
       "      'canRate': True,\n",
       "      'viewerRating': 'none',\n",
       "      'likeCount': 0,\n",
       "      'publishedAt': '2019-02-04T19:49:27.000Z',\n",
       "      'updatedAt': '2019-02-04T19:49:27.000Z'}},\n",
       "    'canReply': True,\n",
       "    'totalReplyCount': 0,\n",
       "    'isPublic': True}},\n",
       "  {'kind': 'youtube#commentThread',\n",
       "   'etag': '\"XpPGQXPnxQJhLgs6enD_n8JR4Qk/OKrndoyGqfP-lrnqsZwzD6IOKkA\"',\n",
       "   'id': 'UgwSdgaRUT4WYcs1Vl14AaABAg',\n",
       "   'snippet': {'videoId': 'cCqum3nxbq8',\n",
       "    'topLevelComment': {'kind': 'youtube#comment',\n",
       "     'etag': '\"XpPGQXPnxQJhLgs6enD_n8JR4Qk/XNaHlowxnpRPWiem2_wJqX3N96c\"',\n",
       "     'id': 'UgwSdgaRUT4WYcs1Vl14AaABAg',\n",
       "     'snippet': {'authorDisplayName': 'Usha Jha',\n",
       "      'authorProfileImageUrl': 'https://yt3.ggpht.com/-BxXtlMzxpAs/AAAAAAAAAAI/AAAAAAAAAAA/D_oZDTlQcn4/s28-c-k-no-mo-rj-c0xffffff/photo.jpg',\n",
       "      'authorChannelUrl': 'http://www.youtube.com/channel/UCjBkWthHyfprsFvNYo9XFAA',\n",
       "      'authorChannelId': {'value': 'UCjBkWthHyfprsFvNYo9XFAA'},\n",
       "      'videoId': 'cCqum3nxbq8',\n",
       "      'textDisplay': 'very very like and love you',\n",
       "      'textOriginal': 'very very like and love you',\n",
       "      'canRate': True,\n",
       "      'viewerRating': 'none',\n",
       "      'likeCount': 0,\n",
       "      'publishedAt': '2019-02-02T12:06:28.000Z',\n",
       "      'updatedAt': '2019-02-02T12:06:28.000Z'}},\n",
       "    'canReply': True,\n",
       "    'totalReplyCount': 0,\n",
       "    'isPublic': True}},\n",
       "  {'kind': 'youtube#commentThread',\n",
       "   'etag': '\"XpPGQXPnxQJhLgs6enD_n8JR4Qk/XVc4F2TD3U-Nj3EoeS4_6hNKBTA\"',\n",
       "   'id': 'UgxCA3UN7367z3-XQHJ4AaABAg',\n",
       "   'snippet': {'videoId': 'cCqum3nxbq8',\n",
       "    'topLevelComment': {'kind': 'youtube#comment',\n",
       "     'etag': '\"XpPGQXPnxQJhLgs6enD_n8JR4Qk/BL058N-McQ2jTIykijnfocLEPfE\"',\n",
       "     'id': 'UgxCA3UN7367z3-XQHJ4AaABAg',\n",
       "     'snippet': {'authorDisplayName': 'Melle Vlogs Olaya',\n",
       "      'authorProfileImageUrl': 'https://yt3.ggpht.com/--bSu59JbbBw/AAAAAAAAAAI/AAAAAAAAAAA/jDnmvpEzC0c/s28-c-k-no-mo-rj-c0xffffff/photo.jpg',\n",
       "      'authorChannelUrl': 'http://www.youtube.com/channel/UCZUbqB8VzihsxyQ9lF6d2xA',\n",
       "      'authorChannelId': {'value': 'UCZUbqB8VzihsxyQ9lF6d2xA'},\n",
       "      'videoId': 'cCqum3nxbq8',\n",
       "      'textDisplay': 'This Movie Name “SECRET SUPERSTAR” you can Download this Movie In Google Search 1,2,3 Movies And search the SECRET SUPERSTAR😊',\n",
       "      'textOriginal': 'This Movie Name “SECRET SUPERSTAR” you can Download this Movie In Google Search 1,2,3 Movies And search the SECRET SUPERSTAR😊',\n",
       "      'canRate': True,\n",
       "      'viewerRating': 'none',\n",
       "      'likeCount': 0,\n",
       "      'publishedAt': '2019-01-28T11:20:25.000Z',\n",
       "      'updatedAt': '2019-01-28T11:20:25.000Z'}},\n",
       "    'canReply': True,\n",
       "    'totalReplyCount': 0,\n",
       "    'isPublic': True}},\n",
       "  {'kind': 'youtube#commentThread',\n",
       "   'etag': '\"XpPGQXPnxQJhLgs6enD_n8JR4Qk/uwKiUVcaws2l_iuc6flZLHNBwyY\"',\n",
       "   'id': 'UgwT42d68eBcyytdkol4AaABAg',\n",
       "   'snippet': {'videoId': 'cCqum3nxbq8',\n",
       "    'topLevelComment': {'kind': 'youtube#comment',\n",
       "     'etag': '\"XpPGQXPnxQJhLgs6enD_n8JR4Qk/yQJtNL3CXCptOLjiWv2BGmsc5nQ\"',\n",
       "     'id': 'UgwT42d68eBcyytdkol4AaABAg',\n",
       "     'snippet': {'authorDisplayName': 'Shamioul kayal',\n",
       "      'authorProfileImageUrl': 'https://yt3.ggpht.com/-VSdfdkficsQ/AAAAAAAAAAI/AAAAAAAAAAA/J5BDqTHdzc4/s28-c-k-no-mo-rj-c0xffffff/photo.jpg',\n",
       "      'authorChannelUrl': 'http://www.youtube.com/channel/UCONHzfnVZo2j1F3NIcA3fPQ',\n",
       "      'authorChannelId': {'value': 'UCONHzfnVZo2j1F3NIcA3fPQ'},\n",
       "      'videoId': 'cCqum3nxbq8',\n",
       "      'textDisplay': 'nice song please give me this movie',\n",
       "      'textOriginal': 'nice song please give me this movie',\n",
       "      'canRate': True,\n",
       "      'viewerRating': 'none',\n",
       "      'likeCount': 0,\n",
       "      'publishedAt': '2019-01-20T08:32:38.000Z',\n",
       "      'updatedAt': '2019-01-20T08:32:38.000Z'}},\n",
       "    'canReply': True,\n",
       "    'totalReplyCount': 0,\n",
       "    'isPublic': True}},\n",
       "  {'kind': 'youtube#commentThread',\n",
       "   'etag': '\"XpPGQXPnxQJhLgs6enD_n8JR4Qk/10lK60gT6nuVTGx40vagc-Hpexw\"',\n",
       "   'id': 'UgyOLcFtl05Kue5A1Jt4AaABAg',\n",
       "   'snippet': {'videoId': 'cCqum3nxbq8',\n",
       "    'topLevelComment': {'kind': 'youtube#comment',\n",
       "     'etag': '\"XpPGQXPnxQJhLgs6enD_n8JR4Qk/Xv6s4vAeRHOzka1h2_ZI38iOEdA\"',\n",
       "     'id': 'UgyOLcFtl05Kue5A1Jt4AaABAg',\n",
       "     'snippet': {'authorDisplayName': 'Debbie Christy Sihombing',\n",
       "      'authorProfileImageUrl': 'https://yt3.ggpht.com/-_H_Z50EvxP8/AAAAAAAAAAI/AAAAAAAAAAA/JbPBl7U4RGE/s28-c-k-no-mo-rj-c0xffffff/photo.jpg',\n",
       "      'authorChannelUrl': 'http://www.youtube.com/channel/UCgONfRN_5e-cvdmXJocZq_g',\n",
       "      'authorChannelId': {'value': 'UCgONfRN_5e-cvdmXJocZq_g'},\n",
       "      'videoId': 'cCqum3nxbq8',\n",
       "      'textDisplay': 'Super movie! Love from Indonesia 💜',\n",
       "      'textOriginal': 'Super movie! Love from Indonesia 💜',\n",
       "      'canRate': True,\n",
       "      'viewerRating': 'none',\n",
       "      'likeCount': 2,\n",
       "      'publishedAt': '2019-01-16T01:26:08.000Z',\n",
       "      'updatedAt': '2019-01-16T01:26:08.000Z'}},\n",
       "    'canReply': True,\n",
       "    'totalReplyCount': 0,\n",
       "    'isPublic': True}},\n",
       "  {'kind': 'youtube#commentThread',\n",
       "   'etag': '\"XpPGQXPnxQJhLgs6enD_n8JR4Qk/2V0mlWsvUJ696gzJqikZKyyA5hI\"',\n",
       "   'id': 'UgwrrucNcq-s2KOhi5p4AaABAg',\n",
       "   'snippet': {'videoId': 'cCqum3nxbq8',\n",
       "    'topLevelComment': {'kind': 'youtube#comment',\n",
       "     'etag': '\"XpPGQXPnxQJhLgs6enD_n8JR4Qk/8deS3MKPqjVgDZ7l7SCjrj7_BlI\"',\n",
       "     'id': 'UgwrrucNcq-s2KOhi5p4AaABAg',\n",
       "     'snippet': {'authorDisplayName': 'Rohmah Anisa',\n",
       "      'authorProfileImageUrl': 'https://yt3.ggpht.com/-Cy2I3LgWLDg/AAAAAAAAAAI/AAAAAAAAAAA/f41NlfATEco/s28-c-k-no-mo-rj-c0xffffff/photo.jpg',\n",
       "      'authorChannelUrl': 'http://www.youtube.com/channel/UC1CMIhLj8I2rkM-wzGWe9aQ',\n",
       "      'authorChannelId': {'value': 'UC1CMIhLj8I2rkM-wzGWe9aQ'},\n",
       "      'videoId': 'cCqum3nxbq8',\n",
       "      'textDisplay': 'i like😍',\n",
       "      'textOriginal': 'i like😍',\n",
       "      'canRate': True,\n",
       "      'viewerRating': 'none',\n",
       "      'likeCount': 0,\n",
       "      'publishedAt': '2019-01-15T23:24:00.000Z',\n",
       "      'updatedAt': '2019-01-15T23:24:00.000Z'}},\n",
       "    'canReply': True,\n",
       "    'totalReplyCount': 0,\n",
       "    'isPublic': True}},\n",
       "  {'kind': 'youtube#commentThread',\n",
       "   'etag': '\"XpPGQXPnxQJhLgs6enD_n8JR4Qk/7lBGi-o7W8TS5Kjta5O5voEoScI\"',\n",
       "   'id': 'UgzJHN4aNSlCs0yx-tV4AaABAg',\n",
       "   'snippet': {'videoId': 'cCqum3nxbq8',\n",
       "    'topLevelComment': {'kind': 'youtube#comment',\n",
       "     'etag': '\"XpPGQXPnxQJhLgs6enD_n8JR4Qk/v39yl_IZ2cRbYKNOz2n6rbNEuJo\"',\n",
       "     'id': 'UgzJHN4aNSlCs0yx-tV4AaABAg',\n",
       "     'snippet': {'authorDisplayName': 'Rakhi Mukherjee',\n",
       "      'authorProfileImageUrl': 'https://yt3.ggpht.com/-K7qlltuQoW4/AAAAAAAAAAI/AAAAAAAAAAA/Xy41ahhDB44/s28-c-k-no-mo-rj-c0xffffff/photo.jpg',\n",
       "      'authorChannelUrl': 'http://www.youtube.com/channel/UCsjBb6_KyomE8I2DXiHJAtw',\n",
       "      'authorChannelId': {'value': 'UCsjBb6_KyomE8I2DXiHJAtw'},\n",
       "      'videoId': 'cCqum3nxbq8',\n",
       "      'textDisplay': 'You are my favorite singer',\n",
       "      'textOriginal': 'You are my favorite singer',\n",
       "      'canRate': True,\n",
       "      'viewerRating': 'none',\n",
       "      'likeCount': 0,\n",
       "      'publishedAt': '2019-01-11T17:07:49.000Z',\n",
       "      'updatedAt': '2019-01-11T17:07:49.000Z'}},\n",
       "    'canReply': True,\n",
       "    'totalReplyCount': 0,\n",
       "    'isPublic': True}},\n",
       "  {'kind': 'youtube#commentThread',\n",
       "   'etag': '\"XpPGQXPnxQJhLgs6enD_n8JR4Qk/D2sE3eAW-UTHpVN2HCRB9UmghIw\"',\n",
       "   'id': 'UgxPJXin8RmlohUE6kF4AaABAg',\n",
       "   'snippet': {'videoId': 'cCqum3nxbq8',\n",
       "    'topLevelComment': {'kind': 'youtube#comment',\n",
       "     'etag': '\"XpPGQXPnxQJhLgs6enD_n8JR4Qk/j5_sIQRxTMyFp4b8moaT8jdiblw\"',\n",
       "     'id': 'UgxPJXin8RmlohUE6kF4AaABAg',\n",
       "     'snippet': {'authorDisplayName': 'Boks Achumi',\n",
       "      'authorProfileImageUrl': 'https://yt3.ggpht.com/-z8WaShDeJmw/AAAAAAAAAAI/AAAAAAAAAAA/HkREA9SVNP4/s28-c-k-no-mo-rj-c0xffffff/photo.jpg',\n",
       "      'authorChannelUrl': 'http://www.youtube.com/channel/UCEIhCEUnUowiBECQ1bAsorw',\n",
       "      'authorChannelId': {'value': 'UCEIhCEUnUowiBECQ1bAsorw'},\n",
       "      'videoId': 'cCqum3nxbq8',\n",
       "      'textDisplay': 'Truly talented 😍👍',\n",
       "      'textOriginal': 'Truly talented 😍👍',\n",
       "      'canRate': True,\n",
       "      'viewerRating': 'none',\n",
       "      'likeCount': 0,\n",
       "      'publishedAt': '2019-01-08T17:32:11.000Z',\n",
       "      'updatedAt': '2019-01-08T17:32:11.000Z'}},\n",
       "    'canReply': True,\n",
       "    'totalReplyCount': 0,\n",
       "    'isPublic': True}}]}"
      ]
     },
     "execution_count": 157,
     "metadata": {},
     "output_type": "execute_result"
    }
   ],
   "source": [
    "comments = page_info.json()\n",
    "comments"
   ]
  },
  {
   "cell_type": "code",
   "execution_count": 158,
   "metadata": {},
   "outputs": [
    {
     "name": "stdout",
     "output_type": "stream",
     "text": [
      "Awesome wow beautiful song\n",
      "Awesome songs👏👏👏👍\n",
      "One of my favourite song 😊😊😊😊\n",
      "very very like and love you\n",
      "This Movie Name “SECRET SUPERSTAR” you can Download this Movie In Google Search 1,2,3 Movies And search the SECRET SUPERSTAR😊\n",
      "nice song please give me this movie\n",
      "Super movie! Love from Indonesia 💜\n",
      "i like😍\n",
      "You are my favorite singer\n",
      "Truly talented 😍👍\n"
     ]
    }
   ],
   "source": [
    "for comment in comments['items']:\n",
    "    print(comment['snippet']['topLevelComment']['snippet']['textOriginal'])"
   ]
  },
  {
   "cell_type": "code",
   "execution_count": 159,
   "metadata": {},
   "outputs": [
    {
     "name": "stdout",
     "output_type": "stream",
     "text": [
      "['Awesome wow beautiful song', 'Awesome songs👏👏👏👍', 'One of my favourite song 😊😊😊😊', 'very very like and love you', 'This Movie Name “SECRET SUPERSTAR” you can Download this Movie In Google Search 1,2,3 Movies And search the SECRET SUPERSTAR😊', 'nice song please give me this movie', 'Super movie! Love from Indonesia 💜', 'i like😍', 'You are my favorite singer', 'Truly talented 😍👍']\n"
     ]
    }
   ],
   "source": [
    "unfiltered_comments = []\n",
    "for comment in comments['items']:\n",
    "    unfiltered_comments.append(comment['snippet']['topLevelComment']['snippet']['textOriginal'])\n",
    "print(unfiltered_comments)"
   ]
  },
  {
   "cell_type": "code",
   "execution_count": 160,
   "metadata": {
    "scrolled": true
   },
   "outputs": [
    {
     "name": "stderr",
     "output_type": "stream",
     "text": [
      "[nltk_data] Downloading package punkt to\n",
      "[nltk_data]     C:\\Users\\PRATEEK\\AppData\\Roaming\\nltk_data...\n",
      "[nltk_data]   Package punkt is already up-to-date!\n"
     ]
    }
   ],
   "source": [
    "import nltk\n",
    "nltk.download('punkt')\n",
    "import pandas as pd\n",
    "import string"
   ]
  },
  {
   "cell_type": "code",
   "execution_count": 161,
   "metadata": {
    "scrolled": false
   },
   "outputs": [
    {
     "data": {
      "text/plain": [
       "['Awesome',\n",
       " 'wow',\n",
       " 'beautiful',\n",
       " 'song',\n",
       " 'Awesome',\n",
       " 'songs👏👏👏👍',\n",
       " 'One',\n",
       " 'of',\n",
       " 'my',\n",
       " 'favourite',\n",
       " 'song',\n",
       " '😊😊😊😊',\n",
       " 'very',\n",
       " 'very',\n",
       " 'like',\n",
       " 'and',\n",
       " 'love',\n",
       " 'you',\n",
       " 'This',\n",
       " 'Movie',\n",
       " 'Name',\n",
       " '“',\n",
       " 'SECRET',\n",
       " 'SUPERSTAR',\n",
       " '”',\n",
       " 'you',\n",
       " 'can',\n",
       " 'Download',\n",
       " 'this',\n",
       " 'Movie',\n",
       " 'In',\n",
       " 'Google',\n",
       " 'Search',\n",
       " '1,2,3',\n",
       " 'Movies',\n",
       " 'And',\n",
       " 'search',\n",
       " 'the',\n",
       " 'SECRET',\n",
       " 'SUPERSTAR😊',\n",
       " 'nice',\n",
       " 'song',\n",
       " 'please',\n",
       " 'give',\n",
       " 'me',\n",
       " 'this',\n",
       " 'movie',\n",
       " 'Super',\n",
       " 'movie',\n",
       " '!',\n",
       " 'Love',\n",
       " 'from',\n",
       " 'Indonesia',\n",
       " '💜',\n",
       " 'i',\n",
       " 'like😍',\n",
       " 'You',\n",
       " 'are',\n",
       " 'my',\n",
       " 'favorite',\n",
       " 'singer',\n",
       " 'Truly',\n",
       " 'talented',\n",
       " '😍👍']"
      ]
     },
     "execution_count": 161,
     "metadata": {},
     "output_type": "execute_result"
    }
   ],
   "source": [
    "from nltk.tokenize import word_tokenize\n",
    "tokenized_text = ' '.join(word for word in unfiltered_comments)\n",
    "tokenized_word = word_tokenize(tokenized_text)\n",
    "tokenized_word"
   ]
  },
  {
   "cell_type": "code",
   "execution_count": 162,
   "metadata": {},
   "outputs": [
    {
     "data": {
      "text/plain": [
       "['Awesome',\n",
       " 'wow',\n",
       " 'beautiful',\n",
       " 'song',\n",
       " 'Awesome',\n",
       " 'songs',\n",
       " 'One',\n",
       " 'of',\n",
       " 'my',\n",
       " 'favourite',\n",
       " 'song',\n",
       " 'very',\n",
       " 'very',\n",
       " 'like',\n",
       " 'and',\n",
       " 'love',\n",
       " 'you',\n",
       " 'This',\n",
       " 'Movie',\n",
       " 'Name',\n",
       " 'SECRET',\n",
       " 'SUPERSTAR',\n",
       " 'you',\n",
       " 'can',\n",
       " 'Download',\n",
       " 'this',\n",
       " 'Movie',\n",
       " 'In',\n",
       " 'Google',\n",
       " 'Search',\n",
       " '1',\n",
       " '2',\n",
       " '3',\n",
       " 'Movies',\n",
       " 'And',\n",
       " 'search',\n",
       " 'the',\n",
       " 'SECRET',\n",
       " 'SUPERSTAR',\n",
       " 'nice',\n",
       " 'song',\n",
       " 'please',\n",
       " 'give',\n",
       " 'me',\n",
       " 'this',\n",
       " 'movie',\n",
       " 'Super',\n",
       " 'movie',\n",
       " 'Love',\n",
       " 'from',\n",
       " 'Indonesia',\n",
       " 'i',\n",
       " 'like',\n",
       " 'You',\n",
       " 'are',\n",
       " 'my',\n",
       " 'favorite',\n",
       " 'singer',\n",
       " 'Truly',\n",
       " 'talented']"
      ]
     },
     "execution_count": 162,
     "metadata": {},
     "output_type": "execute_result"
    }
   ],
   "source": [
    "from nltk.tokenize import RegexpTokenizer\n",
    "\n",
    "tokenizer = RegexpTokenizer(r'\\w+')\n",
    "removing_emojis = tokenizer.tokenize(tokenized_text)\n",
    "removing_emojis"
   ]
  },
  {
   "cell_type": "code",
   "execution_count": 163,
   "metadata": {},
   "outputs": [
    {
     "name": "stdout",
     "output_type": "stream",
     "text": [
      "<FreqDist with 48 samples and 60 outcomes>\n"
     ]
    },
    {
     "data": {
      "text/plain": [
       "[('song', 3), ('Awesome', 2)]"
      ]
     },
     "execution_count": 163,
     "metadata": {},
     "output_type": "execute_result"
    }
   ],
   "source": [
    "from nltk.probability import FreqDist\n",
    "fdist = FreqDist(removing_emojis)\n",
    "print(fdist)\n",
    "fdist.most_common(2)"
   ]
  },
  {
   "cell_type": "code",
   "execution_count": 164,
   "metadata": {},
   "outputs": [
    {
     "data": {
      "image/png": "[encoded data removed]",
      "text/plain": [
       "<Figure size 432x288 with 1 Axes>"
      ]
     },
     "metadata": {
      "needs_background": "light"
     },
     "output_type": "display_data"
    }
   ],
   "source": [
    "%matplotlib inline\n",
    "import matplotlib.pyplot as plt\n",
    "fdist.plot(30,cumulative=False)\n",
    "plt.show()"
   ]
  },
  {
   "cell_type": "markdown",
   "metadata": {},
   "source": [
    "### removing stopwords"
   ]
  },
  {
   "cell_type": "code",
   "execution_count": 165,
   "metadata": {},
   "outputs": [
    {
     "name": "stderr",
     "output_type": "stream",
     "text": [
      "[nltk_data] Downloading package stopwords to\n",
      "[nltk_data]     C:\\Users\\PRATEEK\\AppData\\Roaming\\nltk_data...\n",
      "[nltk_data]   Package stopwords is already up-to-date!\n"
     ]
    }
   ],
   "source": [
    "from nltk.corpus import stopwords\n",
    "nltk.download('stopwords')\n",
    "stop_words=set(stopwords.words(\"english\"))"
   ]
  },
  {
   "cell_type": "code",
   "execution_count": 166,
   "metadata": {},
   "outputs": [
    {
     "name": "stdout",
     "output_type": "stream",
     "text": [
      "Filterd words: ['Awesome', 'wow', 'beautiful', 'song', 'Awesome', 'songs', 'One', 'favourite', 'song', 'like', 'love', 'This', 'Movie', 'Name', 'SECRET', 'SUPERSTAR', 'Download', 'Movie', 'In', 'Google', 'Search', '1', '2', '3', 'Movies', 'And', 'search', 'SECRET', 'SUPERSTAR', 'nice', 'song', 'please', 'give', 'movie', 'Super', 'movie', 'Love', 'Indonesia', 'like', 'You', 'favorite', 'singer', 'Truly', 'talented']\n",
      "44\n"
     ]
    }
   ],
   "source": [
    "filtered_words=[]\n",
    "for words in removing_emojis:\n",
    "    if words not in stop_words:\n",
    "        filtered_words.append(words)\n",
    "\n",
    "print(\"Filterd words:\",filtered_words)\n",
    "print(len(filtered_words))"
   ]
  },
  {
   "cell_type": "code",
   "execution_count": 167,
   "metadata": {},
   "outputs": [
    {
     "data": {
      "image/png": "[encoded data removed]",
      "text/plain": [
       "<Figure size 432x288 with 1 Axes>"
      ]
     },
     "metadata": {
      "needs_background": "light"
     },
     "output_type": "display_data"
    }
   ],
   "source": [
    "fdist = FreqDist(filtered_words)\n",
    "fdist.plot(30,cumulative=False)\n",
    "plt.show()"
   ]
  },
  {
   "cell_type": "code",
   "execution_count": 168,
   "metadata": {},
   "outputs": [
    {
     "name": "stdout",
     "output_type": "stream",
     "text": [
      "36\n"
     ]
    },
    {
     "data": {
      "text/plain": [
       "{'1',\n",
       " '2',\n",
       " '3',\n",
       " 'And',\n",
       " 'Awesome',\n",
       " 'Download',\n",
       " 'Google',\n",
       " 'In',\n",
       " 'Indonesia',\n",
       " 'Love',\n",
       " 'Movie',\n",
       " 'Movies',\n",
       " 'Name',\n",
       " 'One',\n",
       " 'SECRET',\n",
       " 'SUPERSTAR',\n",
       " 'Search',\n",
       " 'Super',\n",
       " 'This',\n",
       " 'Truly',\n",
       " 'You',\n",
       " 'beautiful',\n",
       " 'favorite',\n",
       " 'favourite',\n",
       " 'give',\n",
       " 'like',\n",
       " 'love',\n",
       " 'movie',\n",
       " 'nice',\n",
       " 'please',\n",
       " 'search',\n",
       " 'singer',\n",
       " 'song',\n",
       " 'songs',\n",
       " 'talented',\n",
       " 'wow'}"
      ]
     },
     "execution_count": 168,
     "metadata": {},
     "output_type": "execute_result"
    }
   ],
   "source": [
    "print(len(set(filtered_words)))\n",
    "set(filtered_words)"
   ]
  },
  {
   "cell_type": "markdown",
   "metadata": {},
   "source": [
    "### Stemming v/s Lemmatization"
   ]
  },
  {
   "cell_type": "markdown",
   "metadata": {},
   "source": [
    "### Stemming"
   ]
  },
  {
   "cell_type": "code",
   "execution_count": 169,
   "metadata": {},
   "outputs": [
    {
     "name": "stdout",
     "output_type": "stream",
     "text": [
      "Stemmed Words: ['awesom', 'wow', 'beauti', 'song', 'awesom', 'song', 'one', 'favourit', 'song', 'like', 'love', 'thi', 'movi', 'name', 'secret', 'superstar', 'download', 'movi', 'In', 'googl', 'search', '1', '2', '3', 'movi', 'and', 'search', 'secret', 'superstar', 'nice', 'song', 'pleas', 'give', 'movi', 'super', 'movi', 'love', 'indonesia', 'like', 'you', 'favorit', 'singer', 'truli', 'talent']\n"
     ]
    }
   ],
   "source": [
    "from nltk.stem import PorterStemmer\n",
    "from nltk.tokenize import word_tokenize\n",
    "ps = PorterStemmer()\n",
    "\n",
    "stemmed_words=[]\n",
    "for word in filtered_words:\n",
    "    stemmed_words.append(ps.stem(word))\n",
    "    \n",
    "print(\"Stemmed Words:\",stemmed_words)"
   ]
  },
  {
   "cell_type": "markdown",
   "metadata": {},
   "source": [
    "### Lemmatization"
   ]
  },
  {
   "cell_type": "code",
   "execution_count": 170,
   "metadata": {},
   "outputs": [
    {
     "name": "stdout",
     "output_type": "stream",
     "text": [
      "Lemmatized Words: ['Awesome', 'wow', 'beautiful', 'song', 'Awesome', 'songs', 'One', 'favourite', 'song', 'like', 'love', 'This', 'Movie', 'Name', 'SECRET', 'SUPERSTAR', 'Download', 'Movie', 'In', 'Google', 'Search', '1', '2', '3', 'Movies', 'And', 'search', 'SECRET', 'SUPERSTAR', 'nice', 'song', 'please', 'give', 'movie', 'Super', 'movie', 'Love', 'Indonesia', 'like', 'You', 'favorite', 'singer', 'Truly', 'talented']\n"
     ]
    },
    {
     "name": "stderr",
     "output_type": "stream",
     "text": [
      "[nltk_data] Downloading package wordnet to\n",
      "[nltk_data]     C:\\Users\\PRATEEK\\AppData\\Roaming\\nltk_data...\n",
      "[nltk_data]   Package wordnet is already up-to-date!\n"
     ]
    }
   ],
   "source": [
    "from nltk.stem.wordnet import WordNetLemmatizer\n",
    "nltk.download('wordnet')\n",
    "lem = WordNetLemmatizer()\n",
    "\n",
    "lemmatized_words = []\n",
    "for word in filtered_words:\n",
    "    lemmatized_words.append(lem.lemmatize(word,\"v\"))\n",
    "    \n",
    "print(\"Lemmatized Words:\",lemmatized_words)"
   ]
  },
  {
   "cell_type": "markdown",
   "metadata": {},
   "source": [
    "### POS Tagging"
   ]
  },
  {
   "cell_type": "code",
   "execution_count": 171,
   "metadata": {},
   "outputs": [
    {
     "name": "stderr",
     "output_type": "stream",
     "text": [
      "[nltk_data] Downloading package averaged_perceptron_tagger to\n",
      "[nltk_data]     C:\\Users\\PRATEEK\\AppData\\Roaming\\nltk_data...\n",
      "[nltk_data]   Package averaged_perceptron_tagger is already up-to-\n",
      "[nltk_data]       date!\n"
     ]
    },
    {
     "data": {
      "text/plain": [
       "[('Awesome', 'NNP'),\n",
       " ('wow', 'NN'),\n",
       " ('beautiful', 'NN'),\n",
       " ('song', 'NN'),\n",
       " ('Awesome', 'NNP'),\n",
       " ('songs👏👏👏👍', 'VBD'),\n",
       " ('One', 'CD'),\n",
       " ('of', 'IN'),\n",
       " ('my', 'PRP$'),\n",
       " ('favourite', 'NN'),\n",
       " ('song', 'NN'),\n",
       " ('😊😊😊😊', 'JJ'),\n",
       " ('very', 'RB'),\n",
       " ('very', 'RB'),\n",
       " ('like', 'IN'),\n",
       " ('and', 'CC'),\n",
       " ('love', 'VB'),\n",
       " ('you', 'PRP'),\n",
       " ('This', 'DT'),\n",
       " ('Movie', 'NNP'),\n",
       " ('Name', 'NNP'),\n",
       " ('“', 'NNP'),\n",
       " ('SECRET', 'NNP'),\n",
       " ('SUPERSTAR', 'NNP'),\n",
       " ('”', 'NNP'),\n",
       " ('you', 'PRP'),\n",
       " ('can', 'MD'),\n",
       " ('Download', 'VB'),\n",
       " ('this', 'DT'),\n",
       " ('Movie', 'NNP'),\n",
       " ('In', 'IN'),\n",
       " ('Google', 'NNP'),\n",
       " ('Search', 'NNP'),\n",
       " ('1,2,3', 'CD'),\n",
       " ('Movies', 'NNS'),\n",
       " ('And', 'CC'),\n",
       " ('search', 'VBP'),\n",
       " ('the', 'DT'),\n",
       " ('SECRET', 'NNP'),\n",
       " ('SUPERSTAR😊', 'NNP'),\n",
       " ('nice', 'NN'),\n",
       " ('song', 'NN'),\n",
       " ('please', 'NN'),\n",
       " ('give', 'VB'),\n",
       " ('me', 'PRP'),\n",
       " ('this', 'DT'),\n",
       " ('movie', 'NN'),\n",
       " ('Super', 'NNP'),\n",
       " ('movie', 'NN'),\n",
       " ('!', '.'),\n",
       " ('Love', 'VB'),\n",
       " ('from', 'IN'),\n",
       " ('Indonesia', 'NNP'),\n",
       " ('💜', 'NNP'),\n",
       " ('i', 'NN'),\n",
       " ('like😍', 'NN'),\n",
       " ('You', 'PRP'),\n",
       " ('are', 'VBP'),\n",
       " ('my', 'PRP$'),\n",
       " ('favorite', 'JJ'),\n",
       " ('singer', 'NN'),\n",
       " ('Truly', 'NNP'),\n",
       " ('talented', 'VBD'),\n",
       " ('😍👍', 'NN')]"
      ]
     },
     "execution_count": 171,
     "metadata": {},
     "output_type": "execute_result"
    }
   ],
   "source": [
    "nltk.download('averaged_perceptron_tagger')\n",
    "nltk.pos_tag(tokenized_word)"
   ]
  },
  {
   "cell_type": "markdown",
   "metadata": {},
   "source": [
    "## Sentiment Analysis using Machine learning"
   ]
  },
  {
   "cell_type": "markdown",
   "metadata": {},
   "source": [
    "## Multi-Nomial Naive Bayes Classification "
   ]
  },
  {
   "cell_type": "markdown",
   "metadata": {},
   "source": [
    "### 0 - negative 1 - somewhat negative 2 - neutral 3 - somewhat positive 4 - positive"
   ]
  },
  {
   "cell_type": "code",
   "execution_count": 172,
   "metadata": {},
   "outputs": [],
   "source": [
    "data=pd.read_csv('train.tsv', sep='\\t')"
   ]
  },
  {
   "cell_type": "code",
   "execution_count": 173,
   "metadata": {},
   "outputs": [
    {
     "data": {
      "text/html": [
       "<div>\n",
       "<style scoped>\n",
       "    .dataframe tbody tr th:only-of-type {\n",
       "        vertical-align: middle;\n",
       "    }\n",
       "\n",
       "    .dataframe tbody tr th {\n",
       "        vertical-align: top;\n",
       "    }\n",
       "\n",
       "    .dataframe thead th {\n",
       "        text-align: right;\n",
       "    }\n",
       "</style>\n",
       "<table border=\"1\" class=\"dataframe\">\n",
       "  <thead>\n",
       "    <tr style=\"text-align: right;\">\n",
       "      <th></th>\n",
       "      <th>PhraseId</th>\n",
       "      <th>SentenceId</th>\n",
       "      <th>Phrase</th>\n",
       "      <th>Sentiment</th>\n",
       "    </tr>\n",
       "  </thead>\n",
       "  <tbody>\n",
       "    <tr>\n",
       "      <th>0</th>\n",
       "      <td>1</td>\n",
       "      <td>1</td>\n",
       "      <td>A series of escapades demonstrating the adage ...</td>\n",
       "      <td>1</td>\n",
       "    </tr>\n",
       "    <tr>\n",
       "      <th>1</th>\n",
       "      <td>2</td>\n",
       "      <td>1</td>\n",
       "      <td>A series of escapades demonstrating the adage ...</td>\n",
       "      <td>2</td>\n",
       "    </tr>\n",
       "    <tr>\n",
       "      <th>2</th>\n",
       "      <td>3</td>\n",
       "      <td>1</td>\n",
       "      <td>A series</td>\n",
       "      <td>2</td>\n",
       "    </tr>\n",
       "    <tr>\n",
       "      <th>3</th>\n",
       "      <td>4</td>\n",
       "      <td>1</td>\n",
       "      <td>A</td>\n",
       "      <td>2</td>\n",
       "    </tr>\n",
       "    <tr>\n",
       "      <th>4</th>\n",
       "      <td>5</td>\n",
       "      <td>1</td>\n",
       "      <td>series</td>\n",
       "      <td>2</td>\n",
       "    </tr>\n",
       "  </tbody>\n",
       "</table>\n",
       "</div>"
      ],
      "text/plain": [
       "   PhraseId  SentenceId                                             Phrase  \\\n",
       "0         1           1  A series of escapades demonstrating the adage ...   \n",
       "1         2           1  A series of escapades demonstrating the adage ...   \n",
       "2         3           1                                           A series   \n",
       "3         4           1                                                  A   \n",
       "4         5           1                                             series   \n",
       "\n",
       "   Sentiment  \n",
       "0          1  \n",
       "1          2  \n",
       "2          2  \n",
       "3          2  \n",
       "4          2  "
      ]
     },
     "execution_count": 173,
     "metadata": {},
     "output_type": "execute_result"
    }
   ],
   "source": [
    "data.head()"
   ]
  },
  {
   "cell_type": "code",
   "execution_count": 174,
   "metadata": {},
   "outputs": [
    {
     "name": "stdout",
     "output_type": "stream",
     "text": [
      "<class 'pandas.core.frame.DataFrame'>\n",
      "RangeIndex: 156060 entries, 0 to 156059\n",
      "Data columns (total 4 columns):\n",
      "PhraseId      156060 non-null int64\n",
      "SentenceId    156060 non-null int64\n",
      "Phrase        156060 non-null object\n",
      "Sentiment     156060 non-null int64\n",
      "dtypes: int64(3), object(1)\n",
      "memory usage: 4.8+ MB\n"
     ]
    }
   ],
   "source": [
    "data.info()"
   ]
  },
  {
   "cell_type": "code",
   "execution_count": 175,
   "metadata": {},
   "outputs": [
    {
     "data": {
      "text/plain": [
       "2    79582\n",
       "3    32927\n",
       "1    27273\n",
       "4     9206\n",
       "0     7072\n",
       "Name: Sentiment, dtype: int64"
      ]
     },
     "execution_count": 175,
     "metadata": {},
     "output_type": "execute_result"
    }
   ],
   "source": [
    "data.Sentiment.value_counts()"
   ]
  },
  {
   "cell_type": "code",
   "execution_count": 176,
   "metadata": {},
   "outputs": [
    {
     "data": {
      "text/html": [
       "<div>\n",
       "<style scoped>\n",
       "    .dataframe tbody tr th:only-of-type {\n",
       "        vertical-align: middle;\n",
       "    }\n",
       "\n",
       "    .dataframe tbody tr th {\n",
       "        vertical-align: top;\n",
       "    }\n",
       "\n",
       "    .dataframe thead th {\n",
       "        text-align: right;\n",
       "    }\n",
       "</style>\n",
       "<table border=\"1\" class=\"dataframe\">\n",
       "  <thead>\n",
       "    <tr style=\"text-align: right;\">\n",
       "      <th></th>\n",
       "      <th>PhraseId</th>\n",
       "      <th>SentenceId</th>\n",
       "      <th>Phrase</th>\n",
       "    </tr>\n",
       "    <tr>\n",
       "      <th>Sentiment</th>\n",
       "      <th></th>\n",
       "      <th></th>\n",
       "      <th></th>\n",
       "    </tr>\n",
       "  </thead>\n",
       "  <tbody>\n",
       "    <tr>\n",
       "      <th>0</th>\n",
       "      <td>7072</td>\n",
       "      <td>7072</td>\n",
       "      <td>7072</td>\n",
       "    </tr>\n",
       "    <tr>\n",
       "      <th>1</th>\n",
       "      <td>27273</td>\n",
       "      <td>27273</td>\n",
       "      <td>27273</td>\n",
       "    </tr>\n",
       "    <tr>\n",
       "      <th>2</th>\n",
       "      <td>79582</td>\n",
       "      <td>79582</td>\n",
       "      <td>79582</td>\n",
       "    </tr>\n",
       "    <tr>\n",
       "      <th>3</th>\n",
       "      <td>32927</td>\n",
       "      <td>32927</td>\n",
       "      <td>32927</td>\n",
       "    </tr>\n",
       "    <tr>\n",
       "      <th>4</th>\n",
       "      <td>9206</td>\n",
       "      <td>9206</td>\n",
       "      <td>9206</td>\n",
       "    </tr>\n",
       "  </tbody>\n",
       "</table>\n",
       "</div>"
      ],
      "text/plain": [
       "           PhraseId  SentenceId  Phrase\n",
       "Sentiment                              \n",
       "0              7072        7072    7072\n",
       "1             27273       27273   27273\n",
       "2             79582       79582   79582\n",
       "3             32927       32927   32927\n",
       "4              9206        9206    9206"
      ]
     },
     "execution_count": 176,
     "metadata": {},
     "output_type": "execute_result"
    }
   ],
   "source": [
    "Sentiment_count=data.groupby('Sentiment').count()\n",
    "Sentiment_count"
   ]
  },
  {
   "cell_type": "code",
   "execution_count": 177,
   "metadata": {},
   "outputs": [
    {
     "data": {
      "image/png": "[encoded data removed]",
      "text/plain": [
       "<Figure size 432x288 with 1 Axes>"
      ]
     },
     "metadata": {
      "needs_background": "light"
     },
     "output_type": "display_data"
    }
   ],
   "source": [
    "plt.bar(Sentiment_count.index.values, Sentiment_count['Phrase'])\n",
    "plt.xlabel('Review Sentiments')\n",
    "plt.ylabel('Number of Review')\n",
    "plt.show()"
   ]
  },
  {
   "cell_type": "code",
   "execution_count": 178,
   "metadata": {},
   "outputs": [],
   "source": [
    "from sklearn.feature_extraction.text import CountVectorizer\n",
    "from nltk.tokenize import RegexpTokenizer\n",
    "token = RegexpTokenizer(r'[a-zA-Z0-9]+')\n",
    "cv = CountVectorizer(lowercase=True,stop_words='english',ngram_range = (1,1),tokenizer = token.tokenize)"
   ]
  },
  {
   "cell_type": "code",
   "execution_count": 179,
   "metadata": {},
   "outputs": [
    {
     "name": "stdout",
     "output_type": "stream",
     "text": [
      "(156060, 14988)\n"
     ]
    }
   ],
   "source": [
    "import numpy as np\n",
    "text_counts= cv.fit_transform(data['Phrase'])\n",
    "\n",
    "print(text_counts.shape)"
   ]
  },
  {
   "cell_type": "code",
   "execution_count": 180,
   "metadata": {},
   "outputs": [],
   "source": [
    "from sklearn.model_selection import train_test_split\n",
    "X_train, X_test, y_train, y_test = train_test_split(\n",
    "    text_counts, data['Sentiment'], test_size=0.3, random_state=1)"
   ]
  },
  {
   "cell_type": "code",
   "execution_count": 181,
   "metadata": {},
   "outputs": [
    {
     "name": "stdout",
     "output_type": "stream",
     "text": [
      "MultinomialNB Accuracy: 0.6049169122986885\n"
     ]
    }
   ],
   "source": [
    "from sklearn.naive_bayes import MultinomialNB\n",
    "from sklearn import metrics\n",
    "clf = MultinomialNB().fit(X_train, y_train)\n",
    "predicted= clf.predict(X_test)\n",
    "\n",
    "print(\"MultinomialNB Accuracy:\",metrics.accuracy_score(y_test, predicted))"
   ]
  },
  {
   "cell_type": "code",
   "execution_count": 182,
   "metadata": {},
   "outputs": [
    {
     "data": {
      "text/plain": [
       "pandas.core.series.Series"
      ]
     },
     "execution_count": 182,
     "metadata": {},
     "output_type": "execute_result"
    }
   ],
   "source": [
    "type(data['Phrase'])"
   ]
  },
  {
   "cell_type": "code",
   "execution_count": 183,
   "metadata": {},
   "outputs": [
    {
     "name": "stdout",
     "output_type": "stream",
     "text": [
      "0       Awesome\n",
      "1           wow\n",
      "2     beautiful\n",
      "3          song\n",
      "4       Awesome\n",
      "5         songs\n",
      "6           One\n",
      "7     favourite\n",
      "8          song\n",
      "9          like\n",
      "10         love\n",
      "11         This\n",
      "12        Movie\n",
      "13         Name\n",
      "14       SECRET\n",
      "15    SUPERSTAR\n",
      "16     Download\n",
      "17        Movie\n",
      "18           In\n",
      "19       Google\n",
      "20       Search\n",
      "21            1\n",
      "22            2\n",
      "23            3\n",
      "24       Movies\n",
      "25          And\n",
      "26       search\n",
      "27       SECRET\n",
      "28    SUPERSTAR\n",
      "29         nice\n",
      "30         song\n",
      "31       please\n",
      "32         give\n",
      "33        movie\n",
      "34        Super\n",
      "35        movie\n",
      "36         Love\n",
      "37    Indonesia\n",
      "38         like\n",
      "39          You\n",
      "40     favorite\n",
      "41       singer\n",
      "42        Truly\n",
      "43     talented\n",
      "dtype: object\n"
     ]
    }
   ],
   "source": [
    "type(lemmatized_words)\n",
    "df = pd.Series(lemmatized_words)\n",
    "print(df)"
   ]
  },
  {
   "cell_type": "code",
   "execution_count": 184,
   "metadata": {},
   "outputs": [
    {
     "name": "stdout",
     "output_type": "stream",
     "text": [
      "(156060, 15240)\n",
      "  (0, 11837)\t0.1761994204821687\n",
      "  (0, 9227)\t0.27061683772839323\n",
      "  (0, 4577)\t0.278538658922562\n",
      "  (0, 3490)\t0.2485059095620638\n",
      "  (0, 13505)\t0.17690005957760713\n",
      "  (0, 288)\t0.251134096800077\n",
      "  (0, 13503)\t0.08982508036989033\n",
      "  (0, 14871)\t0.1354415412970302\n",
      "  (0, 7217)\t0.17522921677393963\n",
      "  (0, 5821)\t0.2625302862532789\n",
      "  (0, 5323)\t0.20344769269023563\n",
      "  (0, 5837)\t0.22883807138484064\n",
      "  (0, 529)\t0.1614381914318891\n",
      "  (0, 5595)\t0.265796263188737\n",
      "  (0, 12424)\t0.1381592967010513\n",
      "  (0, 14888)\t0.28701927784529135\n",
      "  (0, 9204)\t0.19301332592202286\n",
      "  (0, 602)\t0.26341877863818697\n",
      "  (0, 1879)\t0.11034437734762885\n",
      "  (0, 9085)\t0.1898515417082945\n",
      "  (0, 593)\t0.22068902883834374\n",
      "  (0, 13681)\t0.07615285026452821\n",
      "  (0, 8807)\t0.1353879543646446\n",
      "  (0, 12857)\t0.12785637560254456\n",
      "  (1, 11837)\t0.29125926935214375\n",
      "  :\t:\n",
      "  (156050, 625)\t0.2115725833396903\n",
      "  (156050, 11465)\t0.670263619653983\n",
      "  (156050, 9193)\t0.6864890126115724\n",
      "  (156051, 625)\t0.21534359576868978\n",
      "  (156051, 11465)\t0.6822102168950972\n",
      "  (156051, 9193)\t0.6987248068627274\n",
      "  (156052, 625)\t0.3010154308931625\n",
      "  (156052, 11465)\t0.953619269081851\n",
      "  (156053, 1313)\t0.40068964783307426\n",
      "  (156053, 5328)\t0.3853824417825967\n",
      "  (156053, 6245)\t0.45540097827929693\n",
      "  (156053, 1027)\t0.4917001772764322\n",
      "  (156053, 2313)\t0.4917001772764322\n",
      "  (156054, 5328)\t0.4206249935248471\n",
      "  (156054, 6245)\t0.4970466029897592\n",
      "  (156054, 1027)\t0.5366653003868254\n",
      "  (156054, 2313)\t0.5366653003868254\n",
      "  (156055, 6245)\t1.0\n",
      "  (156056, 5328)\t0.4847452274521073\n",
      "  (156056, 1027)\t0.618474762808639\n",
      "  (156056, 2313)\t0.618474762808639\n",
      "  (156057, 1027)\t0.7071067811865476\n",
      "  (156057, 2313)\t0.7071067811865476\n",
      "  (156058, 1027)\t1.0\n",
      "  (156059, 2313)\t1.0\n"
     ]
    }
   ],
   "source": [
    "from sklearn.feature_extraction.text import TfidfVectorizer\n",
    "tf=TfidfVectorizer()\n",
    "text_tf= tf.fit_transform(data['Phrase'])\n",
    "print(text_tf.shape)\n",
    "print(text_tf)"
   ]
  },
  {
   "cell_type": "code",
   "execution_count": 185,
   "metadata": {},
   "outputs": [],
   "source": [
    "from sklearn.model_selection import train_test_split\n",
    "X_train, X_test, y_train, y_test = train_test_split(\n",
    "    text_tf, data['Sentiment'], test_size=0.3, random_state=123)"
   ]
  },
  {
   "cell_type": "code",
   "execution_count": 186,
   "metadata": {},
   "outputs": [
    {
     "name": "stdout",
     "output_type": "stream",
     "text": [
      "(46818, 15240)\n",
      "<class 'scipy.sparse.csr.csr_matrix'>\n"
     ]
    }
   ],
   "source": [
    "print(X_test.shape)\n",
    "print(type(X_test))"
   ]
  },
  {
   "cell_type": "code",
   "execution_count": 187,
   "metadata": {},
   "outputs": [
    {
     "name": "stdout",
     "output_type": "stream",
     "text": [
      "[3 2 2 ... 2 2 2]\n",
      "MultinomialNB Accuracy: 0.5865265496176684\n"
     ]
    }
   ],
   "source": [
    "clf = MultinomialNB().fit(X_train, y_train)\n",
    "predicted= clf.predict(X_test)\n",
    "print(predicted)\n",
    "print(\"MultinomialNB Accuracy:\",metrics.accuracy_score(y_test, predicted))"
   ]
  },
  {
   "cell_type": "code",
   "execution_count": 188,
   "metadata": {},
   "outputs": [
    {
     "name": "stdout",
     "output_type": "stream",
     "text": [
      "(44, 15240)\n"
     ]
    },
    {
     "data": {
      "text/plain": [
       "array([4, 3, 3, 2, 4, 2, 2, 1, 2, 2, 2, 2, 2, 2, 2, 2, 2, 2, 2, 2, 2, 2,\n",
       "       2, 2, 2, 2, 2, 2, 2, 3, 2, 2, 2, 2, 2, 2, 2, 2, 2, 2, 3, 2, 2, 3],\n",
       "      dtype=int64)"
      ]
     },
     "execution_count": 188,
     "metadata": {},
     "output_type": "execute_result"
    }
   ],
   "source": [
    "import scipy\n",
    "text_counts_reviews = tf.transform(df)\n",
    "print(text_counts_reviews.shape)\n",
    "#print(type(text_counts_reviews))\n",
    "\n",
    "#print(text_counts_reviews)\n",
    "#scipy.sparse.csr_matrix(text_counts_reviews.values)\n",
    "\n",
    "predicted_reviews = clf.predict(text_counts_reviews)\n",
    "predicted_reviews"
   ]
  },
  {
   "cell_type": "code",
   "execution_count": null,
   "metadata": {},
   "outputs": [],
   "source": []
  }
 ],
 "metadata": {
  "kernelspec": {
   "display_name": "Python 3",
   "language": "python",
   "name": "python3"
  },
  "language_info": {
   "codemirror_mode": {
    "name": "ipython",
    "version": 3
   },
   "file_extension": ".py",
   "mimetype": "text/x-python",
   "name": "python",
   "nbconvert_exporter": "python",
   "pygments_lexer": "ipython3",
   "version": "3.6.5"
  }
 },
 "nbformat": 4,
 "nbformat_minor": 2
}
