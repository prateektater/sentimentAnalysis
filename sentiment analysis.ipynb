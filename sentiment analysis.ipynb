{
 "cells": [
  {
   "cell_type": "code",
   "execution_count": null,
   "metadata": {},
   "outputs": [],
   "source": [
    "key = input(\"Enter your key\")"
   ]
  },
  {
   "cell_type": "code",
   "execution_count": null,
   "metadata": {},
   "outputs": [],
   "source": [
    "import requests"
   ]
  },
  {
   "cell_type": "code",
   "execution_count": null,
   "metadata": {},
   "outputs": [],
   "source": [
    "limit = input(\"enter max results\")\n",
    "videoId = input(\"enter video id\")\n",
    "googleApi = 'https://www.googleapis.com/youtube/v3/commentThreads?part=snippet&maxResults='+limit+'&videoId='+videoId+'&key='+key\n"
   ]
  },
  {
   "cell_type": "code",
   "execution_count": null,
   "metadata": {},
   "outputs": [],
   "source": [
    "googleApi"
   ]
  },
  {
   "cell_type": "code",
   "execution_count": null,
   "metadata": {},
   "outputs": [],
   "source": [
    "page_info = requests.get(googleApi)"
   ]
  },
  {
   "cell_type": "code",
   "execution_count": 14,
   "metadata": {},
   "outputs": [
    {
     "data": {
      "text/plain": [
       "<Response [200]>"
      ]
     },
     "execution_count": 14,
     "metadata": {},
     "output_type": "execute_result"
    }
   ],
   "source": [
    "page_info"
   ]
  },
  {
   "cell_type": "code",
   "execution_count": 15,
   "metadata": {},
   "outputs": [
    {
     "data": {
      "text/plain": [
       "{'kind': 'youtube#commentThreadListResponse',\n",
       " 'etag': '\"XpPGQXPnxQJhLgs6enD_n8JR4Qk/_nPyNItuMhu3L43Az1bGpP2BFN0\"',\n",
       " 'nextPageToken': 'QURTSl9pM3l1NlkzZjRRdzJfeXFQU3ZxdXJmM1dQZ055cEJxaFBjS1dsS0kybjVWcVFOeXhPaDNFY0Z6Q29tRFNsU3NGUktBa1FMOWRMb256SVRJVEQtMDZYczhqX1VfYVZBMDhZSl9JYTZNa2JCN1AzMk51MzJQU2lWS1FLLXA=',\n",
       " 'pageInfo': {'totalResults': 10, 'resultsPerPage': 10},\n",
       " 'items': [{'kind': 'youtube#commentThread',\n",
       "   'etag': '\"XpPGQXPnxQJhLgs6enD_n8JR4Qk/9cm1sfJU0bYOhoZJDt2ZfFvhQs8\"',\n",
       "   'id': 'UgzcXoFRK_pXTruvt254AaABAg',\n",
       "   'snippet': {'videoId': 'cCqum3nxbq8',\n",
       "    'topLevelComment': {'kind': 'youtube#comment',\n",
       "     'etag': '\"XpPGQXPnxQJhLgs6enD_n8JR4Qk/-iaaQ9xz9X4Q4nYrgcPyBTdANzw\"',\n",
       "     'id': 'UgzcXoFRK_pXTruvt254AaABAg',\n",
       "     'snippet': {'authorDisplayName': 'Suresh Kumar',\n",
       "      'authorProfileImageUrl': 'https://yt3.ggpht.com/-k-IVhBteKYg/AAAAAAAAAAI/AAAAAAAAAAA/RbAEBMRMesM/s28-c-k-no-mo-rj-c0xffffff/photo.jpg',\n",
       "      'authorChannelUrl': 'http://www.youtube.com/channel/UC5kOt1yQYSY-C08IHxP7wZQ',\n",
       "      'authorChannelId': {'value': 'UC5kOt1yQYSY-C08IHxP7wZQ'},\n",
       "      'videoId': 'cCqum3nxbq8',\n",
       "      'textDisplay': 'Awesome wow beautiful song',\n",
       "      'textOriginal': 'Awesome wow beautiful song',\n",
       "      'canRate': True,\n",
       "      'viewerRating': 'none',\n",
       "      'likeCount': 0,\n",
       "      'publishedAt': '2019-02-05T06:35:49.000Z',\n",
       "      'updatedAt': '2019-02-05T06:35:49.000Z'}},\n",
       "    'canReply': True,\n",
       "    'totalReplyCount': 0,\n",
       "    'isPublic': True}},\n",
       "  {'kind': 'youtube#commentThread',\n",
       "   'etag': '\"XpPGQXPnxQJhLgs6enD_n8JR4Qk/bFvTDfiq6COGFkk8iMWr-yBG16A\"',\n",
       "   'id': 'UgwBFL3FbdFUdzu3m4p4AaABAg',\n",
       "   'snippet': {'videoId': 'cCqum3nxbq8',\n",
       "    'topLevelComment': {'kind': 'youtube#comment',\n",
       "     'etag': '\"XpPGQXPnxQJhLgs6enD_n8JR4Qk/XQt1ubyUA9aqp-0HPY1Rg7EEgAc\"',\n",
       "     'id': 'UgwBFL3FbdFUdzu3m4p4AaABAg',\n",
       "     'snippet': {'authorDisplayName': 'Sakshi Chavan',\n",
       "      'authorProfileImageUrl': 'https://yt3.ggpht.com/-gx9G_HsK73c/AAAAAAAAAAI/AAAAAAAAAAA/UIEoDCo0wMA/s28-c-k-no-mo-rj-c0xffffff/photo.jpg',\n",
       "      'authorChannelUrl': 'http://www.youtube.com/channel/UC8NqoIWOI9gnMgxqeKoHVxg',\n",
       "      'authorChannelId': {'value': 'UC8NqoIWOI9gnMgxqeKoHVxg'},\n",
       "      'videoId': 'cCqum3nxbq8',\n",
       "      'textDisplay': 'Awesome songs👏👏👏👍',\n",
       "      'textOriginal': 'Awesome songs👏👏👏👍',\n",
       "      'canRate': True,\n",
       "      'viewerRating': 'none',\n",
       "      'likeCount': 0,\n",
       "      'publishedAt': '2019-02-04T19:50:20.000Z',\n",
       "      'updatedAt': '2019-02-04T19:50:20.000Z'}},\n",
       "    'canReply': True,\n",
       "    'totalReplyCount': 0,\n",
       "    'isPublic': True}},\n",
       "  {'kind': 'youtube#commentThread',\n",
       "   'etag': '\"XpPGQXPnxQJhLgs6enD_n8JR4Qk/NZAXC1OBzSyA-ZWcBm1T8aeBuYc\"',\n",
       "   'id': 'UgyD-nrCRMSDr0UuHcd4AaABAg',\n",
       "   'snippet': {'videoId': 'cCqum3nxbq8',\n",
       "    'topLevelComment': {'kind': 'youtube#comment',\n",
       "     'etag': '\"XpPGQXPnxQJhLgs6enD_n8JR4Qk/70SyvmN7pCE1TdUgUM0Xc0V8x0o\"',\n",
       "     'id': 'UgyD-nrCRMSDr0UuHcd4AaABAg',\n",
       "     'snippet': {'authorDisplayName': 'Sakshi Chavan',\n",
       "      'authorProfileImageUrl': 'https://yt3.ggpht.com/-gx9G_HsK73c/AAAAAAAAAAI/AAAAAAAAAAA/UIEoDCo0wMA/s28-c-k-no-mo-rj-c0xffffff/photo.jpg',\n",
       "      'authorChannelUrl': 'http://www.youtube.com/channel/UC8NqoIWOI9gnMgxqeKoHVxg',\n",
       "      'authorChannelId': {'value': 'UC8NqoIWOI9gnMgxqeKoHVxg'},\n",
       "      'videoId': 'cCqum3nxbq8',\n",
       "      'textDisplay': 'One of my favourite song 😊😊😊😊',\n",
       "      'textOriginal': 'One of my favourite song 😊😊😊😊',\n",
       "      'canRate': True,\n",
       "      'viewerRating': 'none',\n",
       "      'likeCount': 0,\n",
       "      'publishedAt': '2019-02-04T19:49:27.000Z',\n",
       "      'updatedAt': '2019-02-04T19:49:27.000Z'}},\n",
       "    'canReply': True,\n",
       "    'totalReplyCount': 0,\n",
       "    'isPublic': True}},\n",
       "  {'kind': 'youtube#commentThread',\n",
       "   'etag': '\"XpPGQXPnxQJhLgs6enD_n8JR4Qk/OKrndoyGqfP-lrnqsZwzD6IOKkA\"',\n",
       "   'id': 'UgwSdgaRUT4WYcs1Vl14AaABAg',\n",
       "   'snippet': {'videoId': 'cCqum3nxbq8',\n",
       "    'topLevelComment': {'kind': 'youtube#comment',\n",
       "     'etag': '\"XpPGQXPnxQJhLgs6enD_n8JR4Qk/XNaHlowxnpRPWiem2_wJqX3N96c\"',\n",
       "     'id': 'UgwSdgaRUT4WYcs1Vl14AaABAg',\n",
       "     'snippet': {'authorDisplayName': 'Usha Jha',\n",
       "      'authorProfileImageUrl': 'https://yt3.ggpht.com/-BxXtlMzxpAs/AAAAAAAAAAI/AAAAAAAAAAA/D_oZDTlQcn4/s28-c-k-no-mo-rj-c0xffffff/photo.jpg',\n",
       "      'authorChannelUrl': 'http://www.youtube.com/channel/UCjBkWthHyfprsFvNYo9XFAA',\n",
       "      'authorChannelId': {'value': 'UCjBkWthHyfprsFvNYo9XFAA'},\n",
       "      'videoId': 'cCqum3nxbq8',\n",
       "      'textDisplay': 'very very like and love you',\n",
       "      'textOriginal': 'very very like and love you',\n",
       "      'canRate': True,\n",
       "      'viewerRating': 'none',\n",
       "      'likeCount': 0,\n",
       "      'publishedAt': '2019-02-02T12:06:28.000Z',\n",
       "      'updatedAt': '2019-02-02T12:06:28.000Z'}},\n",
       "    'canReply': True,\n",
       "    'totalReplyCount': 0,\n",
       "    'isPublic': True}},\n",
       "  {'kind': 'youtube#commentThread',\n",
       "   'etag': '\"XpPGQXPnxQJhLgs6enD_n8JR4Qk/XVc4F2TD3U-Nj3EoeS4_6hNKBTA\"',\n",
       "   'id': 'UgxCA3UN7367z3-XQHJ4AaABAg',\n",
       "   'snippet': {'videoId': 'cCqum3nxbq8',\n",
       "    'topLevelComment': {'kind': 'youtube#comment',\n",
       "     'etag': '\"XpPGQXPnxQJhLgs6enD_n8JR4Qk/BL058N-McQ2jTIykijnfocLEPfE\"',\n",
       "     'id': 'UgxCA3UN7367z3-XQHJ4AaABAg',\n",
       "     'snippet': {'authorDisplayName': 'Melle Vlogs Olaya',\n",
       "      'authorProfileImageUrl': 'https://yt3.ggpht.com/--bSu59JbbBw/AAAAAAAAAAI/AAAAAAAAAAA/jDnmvpEzC0c/s28-c-k-no-mo-rj-c0xffffff/photo.jpg',\n",
       "      'authorChannelUrl': 'http://www.youtube.com/channel/UCZUbqB8VzihsxyQ9lF6d2xA',\n",
       "      'authorChannelId': {'value': 'UCZUbqB8VzihsxyQ9lF6d2xA'},\n",
       "      'videoId': 'cCqum3nxbq8',\n",
       "      'textDisplay': 'This Movie Name “SECRET SUPERSTAR” you can Download this Movie In Google Search 1,2,3 Movies And search the SECRET SUPERSTAR😊',\n",
       "      'textOriginal': 'This Movie Name “SECRET SUPERSTAR” you can Download this Movie In Google Search 1,2,3 Movies And search the SECRET SUPERSTAR😊',\n",
       "      'canRate': True,\n",
       "      'viewerRating': 'none',\n",
       "      'likeCount': 0,\n",
       "      'publishedAt': '2019-01-28T11:20:25.000Z',\n",
       "      'updatedAt': '2019-01-28T11:20:25.000Z'}},\n",
       "    'canReply': True,\n",
       "    'totalReplyCount': 0,\n",
       "    'isPublic': True}},\n",
       "  {'kind': 'youtube#commentThread',\n",
       "   'etag': '\"XpPGQXPnxQJhLgs6enD_n8JR4Qk/uwKiUVcaws2l_iuc6flZLHNBwyY\"',\n",
       "   'id': 'UgwT42d68eBcyytdkol4AaABAg',\n",
       "   'snippet': {'videoId': 'cCqum3nxbq8',\n",
       "    'topLevelComment': {'kind': 'youtube#comment',\n",
       "     'etag': '\"XpPGQXPnxQJhLgs6enD_n8JR4Qk/yQJtNL3CXCptOLjiWv2BGmsc5nQ\"',\n",
       "     'id': 'UgwT42d68eBcyytdkol4AaABAg',\n",
       "     'snippet': {'authorDisplayName': 'Shamioul kayal',\n",
       "      'authorProfileImageUrl': 'https://yt3.ggpht.com/-VSdfdkficsQ/AAAAAAAAAAI/AAAAAAAAAAA/J5BDqTHdzc4/s28-c-k-no-mo-rj-c0xffffff/photo.jpg',\n",
       "      'authorChannelUrl': 'http://www.youtube.com/channel/UCONHzfnVZo2j1F3NIcA3fPQ',\n",
       "      'authorChannelId': {'value': 'UCONHzfnVZo2j1F3NIcA3fPQ'},\n",
       "      'videoId': 'cCqum3nxbq8',\n",
       "      'textDisplay': 'nice song please give me this movie',\n",
       "      'textOriginal': 'nice song please give me this movie',\n",
       "      'canRate': True,\n",
       "      'viewerRating': 'none',\n",
       "      'likeCount': 0,\n",
       "      'publishedAt': '2019-01-20T08:32:38.000Z',\n",
       "      'updatedAt': '2019-01-20T08:32:38.000Z'}},\n",
       "    'canReply': True,\n",
       "    'totalReplyCount': 0,\n",
       "    'isPublic': True}},\n",
       "  {'kind': 'youtube#commentThread',\n",
       "   'etag': '\"XpPGQXPnxQJhLgs6enD_n8JR4Qk/10lK60gT6nuVTGx40vagc-Hpexw\"',\n",
       "   'id': 'UgyOLcFtl05Kue5A1Jt4AaABAg',\n",
       "   'snippet': {'videoId': 'cCqum3nxbq8',\n",
       "    'topLevelComment': {'kind': 'youtube#comment',\n",
       "     'etag': '\"XpPGQXPnxQJhLgs6enD_n8JR4Qk/Xv6s4vAeRHOzka1h2_ZI38iOEdA\"',\n",
       "     'id': 'UgyOLcFtl05Kue5A1Jt4AaABAg',\n",
       "     'snippet': {'authorDisplayName': 'Debbie Christy Sihombing',\n",
       "      'authorProfileImageUrl': 'https://yt3.ggpht.com/-_H_Z50EvxP8/AAAAAAAAAAI/AAAAAAAAAAA/JbPBl7U4RGE/s28-c-k-no-mo-rj-c0xffffff/photo.jpg',\n",
       "      'authorChannelUrl': 'http://www.youtube.com/channel/UCgONfRN_5e-cvdmXJocZq_g',\n",
       "      'authorChannelId': {'value': 'UCgONfRN_5e-cvdmXJocZq_g'},\n",
       "      'videoId': 'cCqum3nxbq8',\n",
       "      'textDisplay': 'Super movie! Love from Indonesia 💜',\n",
       "      'textOriginal': 'Super movie! Love from Indonesia 💜',\n",
       "      'canRate': True,\n",
       "      'viewerRating': 'none',\n",
       "      'likeCount': 2,\n",
       "      'publishedAt': '2019-01-16T01:26:08.000Z',\n",
       "      'updatedAt': '2019-01-16T01:26:08.000Z'}},\n",
       "    'canReply': True,\n",
       "    'totalReplyCount': 0,\n",
       "    'isPublic': True}},\n",
       "  {'kind': 'youtube#commentThread',\n",
       "   'etag': '\"XpPGQXPnxQJhLgs6enD_n8JR4Qk/2V0mlWsvUJ696gzJqikZKyyA5hI\"',\n",
       "   'id': 'UgwrrucNcq-s2KOhi5p4AaABAg',\n",
       "   'snippet': {'videoId': 'cCqum3nxbq8',\n",
       "    'topLevelComment': {'kind': 'youtube#comment',\n",
       "     'etag': '\"XpPGQXPnxQJhLgs6enD_n8JR4Qk/8deS3MKPqjVgDZ7l7SCjrj7_BlI\"',\n",
       "     'id': 'UgwrrucNcq-s2KOhi5p4AaABAg',\n",
       "     'snippet': {'authorDisplayName': 'Rohmah Anisa',\n",
       "      'authorProfileImageUrl': 'https://yt3.ggpht.com/-Cy2I3LgWLDg/AAAAAAAAAAI/AAAAAAAAAAA/f41NlfATEco/s28-c-k-no-mo-rj-c0xffffff/photo.jpg',\n",
       "      'authorChannelUrl': 'http://www.youtube.com/channel/UC1CMIhLj8I2rkM-wzGWe9aQ',\n",
       "      'authorChannelId': {'value': 'UC1CMIhLj8I2rkM-wzGWe9aQ'},\n",
       "      'videoId': 'cCqum3nxbq8',\n",
       "      'textDisplay': 'i like😍',\n",
       "      'textOriginal': 'i like😍',\n",
       "      'canRate': True,\n",
       "      'viewerRating': 'none',\n",
       "      'likeCount': 0,\n",
       "      'publishedAt': '2019-01-15T23:24:00.000Z',\n",
       "      'updatedAt': '2019-01-15T23:24:00.000Z'}},\n",
       "    'canReply': True,\n",
       "    'totalReplyCount': 0,\n",
       "    'isPublic': True}},\n",
       "  {'kind': 'youtube#commentThread',\n",
       "   'etag': '\"XpPGQXPnxQJhLgs6enD_n8JR4Qk/7lBGi-o7W8TS5Kjta5O5voEoScI\"',\n",
       "   'id': 'UgzJHN4aNSlCs0yx-tV4AaABAg',\n",
       "   'snippet': {'videoId': 'cCqum3nxbq8',\n",
       "    'topLevelComment': {'kind': 'youtube#comment',\n",
       "     'etag': '\"XpPGQXPnxQJhLgs6enD_n8JR4Qk/v39yl_IZ2cRbYKNOz2n6rbNEuJo\"',\n",
       "     'id': 'UgzJHN4aNSlCs0yx-tV4AaABAg',\n",
       "     'snippet': {'authorDisplayName': 'Rakhi Mukherjee',\n",
       "      'authorProfileImageUrl': 'https://yt3.ggpht.com/-K7qlltuQoW4/AAAAAAAAAAI/AAAAAAAAAAA/Xy41ahhDB44/s28-c-k-no-mo-rj-c0xffffff/photo.jpg',\n",
       "      'authorChannelUrl': 'http://www.youtube.com/channel/UCsjBb6_KyomE8I2DXiHJAtw',\n",
       "      'authorChannelId': {'value': 'UCsjBb6_KyomE8I2DXiHJAtw'},\n",
       "      'videoId': 'cCqum3nxbq8',\n",
       "      'textDisplay': 'You are my favorite singer',\n",
       "      'textOriginal': 'You are my favorite singer',\n",
       "      'canRate': True,\n",
       "      'viewerRating': 'none',\n",
       "      'likeCount': 0,\n",
       "      'publishedAt': '2019-01-11T17:07:49.000Z',\n",
       "      'updatedAt': '2019-01-11T17:07:49.000Z'}},\n",
       "    'canReply': True,\n",
       "    'totalReplyCount': 0,\n",
       "    'isPublic': True}},\n",
       "  {'kind': 'youtube#commentThread',\n",
       "   'etag': '\"XpPGQXPnxQJhLgs6enD_n8JR4Qk/D2sE3eAW-UTHpVN2HCRB9UmghIw\"',\n",
       "   'id': 'UgxPJXin8RmlohUE6kF4AaABAg',\n",
       "   'snippet': {'videoId': 'cCqum3nxbq8',\n",
       "    'topLevelComment': {'kind': 'youtube#comment',\n",
       "     'etag': '\"XpPGQXPnxQJhLgs6enD_n8JR4Qk/j5_sIQRxTMyFp4b8moaT8jdiblw\"',\n",
       "     'id': 'UgxPJXin8RmlohUE6kF4AaABAg',\n",
       "     'snippet': {'authorDisplayName': 'Boks Achumi',\n",
       "      'authorProfileImageUrl': 'https://yt3.ggpht.com/-z8WaShDeJmw/AAAAAAAAAAI/AAAAAAAAAAA/HkREA9SVNP4/s28-c-k-no-mo-rj-c0xffffff/photo.jpg',\n",
       "      'authorChannelUrl': 'http://www.youtube.com/channel/UCEIhCEUnUowiBECQ1bAsorw',\n",
       "      'authorChannelId': {'value': 'UCEIhCEUnUowiBECQ1bAsorw'},\n",
       "      'videoId': 'cCqum3nxbq8',\n",
       "      'textDisplay': 'Truly talented 😍👍',\n",
       "      'textOriginal': 'Truly talented 😍👍',\n",
       "      'canRate': True,\n",
       "      'viewerRating': 'none',\n",
       "      'likeCount': 0,\n",
       "      'publishedAt': '2019-01-08T17:32:11.000Z',\n",
       "      'updatedAt': '2019-01-08T17:32:11.000Z'}},\n",
       "    'canReply': True,\n",
       "    'totalReplyCount': 0,\n",
       "    'isPublic': True}}]}"
      ]
     },
     "execution_count": 15,
     "metadata": {},
     "output_type": "execute_result"
    }
   ],
   "source": [
    "comments = page_info.json()\n",
    "comments"
   ]
  },
  {
   "cell_type": "code",
   "execution_count": 16,
   "metadata": {},
   "outputs": [
    {
     "name": "stdout",
     "output_type": "stream",
     "text": [
      "Awesome wow beautiful song\n",
      "Awesome songs👏👏👏👍\n",
      "One of my favourite song 😊😊😊😊\n",
      "very very like and love you\n",
      "This Movie Name “SECRET SUPERSTAR” you can Download this Movie In Google Search 1,2,3 Movies And search the SECRET SUPERSTAR😊\n",
      "nice song please give me this movie\n",
      "Super movie! Love from Indonesia 💜\n",
      "i like😍\n",
      "You are my favorite singer\n",
      "Truly talented 😍👍\n"
     ]
    }
   ],
   "source": [
    "for comment in comments['items']:\n",
    "    print(comment['snippet']['topLevelComment']['snippet']['textOriginal'])"
   ]
  },
  {
   "cell_type": "code",
   "execution_count": 17,
   "metadata": {},
   "outputs": [
    {
     "name": "stdout",
     "output_type": "stream",
     "text": [
      "['Awesome wow beautiful song', 'Awesome songs👏👏👏👍', 'One of my favourite song 😊😊😊😊', 'very very like and love you', 'This Movie Name “SECRET SUPERSTAR” you can Download this Movie In Google Search 1,2,3 Movies And search the SECRET SUPERSTAR😊', 'nice song please give me this movie', 'Super movie! Love from Indonesia 💜', 'i like😍', 'You are my favorite singer', 'Truly talented 😍👍']\n"
     ]
    }
   ],
   "source": [
    "unfiltered_comments = []\n",
    "for comment in comments['items']:\n",
    "    unfiltered_comments.append(comment['snippet']['topLevelComment']['snippet']['textOriginal'])\n",
    "print(unfiltered_comments)"
   ]
  },
  {
   "cell_type": "code",
   "execution_count": 18,
   "metadata": {
    "scrolled": true
   },
   "outputs": [
    {
     "name": "stderr",
     "output_type": "stream",
     "text": [
      "[nltk_data] Downloading package punkt to\n",
      "[nltk_data]     C:\\Users\\PRATEEK\\AppData\\Roaming\\nltk_data...\n",
      "[nltk_data]   Package punkt is already up-to-date!\n"
     ]
    }
   ],
   "source": [
    "import nltk\n",
    "nltk.download('punkt')\n",
    "import pandas as pd\n",
    "import string"
   ]
  },
  {
   "cell_type": "code",
   "execution_count": 19,
   "metadata": {
    "scrolled": false
   },
   "outputs": [],
   "source": [
    "from nltk.tokenize import word_tokenize\n",
    "tokenized_text = ' '.join(word for word in unfiltered_comments)\n",
    "tokenized_word = word_tokenize(tokenized_text)"
   ]
  },
  {
   "cell_type": "code",
   "execution_count": 20,
   "metadata": {},
   "outputs": [
    {
     "name": "stdout",
     "output_type": "stream",
     "text": [
      "<FreqDist with 54 samples and 64 outcomes>\n"
     ]
    },
    {
     "data": {
      "text/plain": [
       "[('song', 3), ('Awesome', 2)]"
      ]
     },
     "execution_count": 20,
     "metadata": {},
     "output_type": "execute_result"
    }
   ],
   "source": [
    "from nltk.probability import FreqDist\n",
    "fdist = FreqDist(tokenized_word)\n",
    "print(fdist)\n",
    "fdist.most_common(2)"
   ]
  },
  {
   "cell_type": "code",
   "execution_count": 21,
   "metadata": {},
   "outputs": [
    {
     "data": {
      "image/png": "[encoded data removed]",
      "text/plain": [
       "<Figure size 432x288 with 1 Axes>"
      ]
     },
     "metadata": {
      "needs_background": "light"
     },
     "output_type": "display_data"
    }
   ],
   "source": [
    "%matplotlib inline\n",
    "import matplotlib.pyplot as plt\n",
    "fdist.plot(30,cumulative=False)\n",
    "plt.show()"
   ]
  },
  {
   "cell_type": "code",
   "execution_count": null,
   "metadata": {},
   "outputs": [],
   "source": []
  }
 ],
 "metadata": {
  "kernelspec": {
   "display_name": "Python 3",
   "language": "python",
   "name": "python3"
  },
  "language_info": {
   "codemirror_mode": {
    "name": "ipython",
    "version": 3
   },
   "file_extension": ".py",
   "mimetype": "text/x-python",
   "name": "python",
   "nbconvert_exporter": "python",
   "pygments_lexer": "ipython3",
   "version": "3.6.5"
  }
 },
 "nbformat": 4,
 "nbformat_minor": 2
}
