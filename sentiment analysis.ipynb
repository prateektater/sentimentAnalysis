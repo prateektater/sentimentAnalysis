{
 "cells": [
  {
   "cell_type": "code",
   "execution_count": null,
   "metadata": {},
   "outputs": [],
   "source": [
    "key = input(\"Enter your key\")"
   ]
  },
  {
   "cell_type": "code",
   "execution_count": null,
   "metadata": {},
   "outputs": [],
   "source": [
    "import requests"
   ]
  },
  {
   "cell_type": "code",
   "execution_count": null,
   "metadata": {},
   "outputs": [],
   "source": [
    "limit = input(\"enter max results\")\n",
    "videoId = input(\"enter video id\")\n",
    "googleApi = 'https://www.googleapis.com/youtube/v3/commentThreads?part=snippet&maxResults='+limit+'&videoId='+videoId+'&key='+key\n"
   ]
  },
  {
   "cell_type": "code",
   "execution_count": null,
   "metadata": {},
   "outputs": [],
   "source": [
    "googleApi"
   ]
  },
  {
   "cell_type": "code",
   "execution_count": null,
   "metadata": {},
   "outputs": [],
   "source": [
    "page_info = requests.get(googleApi)"
   ]
  },
  {
   "cell_type": "code",
   "execution_count": 28,
   "metadata": {},
   "outputs": [
    {
     "data": {
      "text/plain": [
       "<Response [200]>"
      ]
     },
     "execution_count": 28,
     "metadata": {},
     "output_type": "execute_result"
    }
   ],
   "source": [
    "page_info"
   ]
  },
  {
   "cell_type": "code",
   "execution_count": 29,
   "metadata": {},
   "outputs": [
    {
     "data": {
      "text/plain": [
       "{'kind': 'youtube#commentThreadListResponse',\n",
       " 'etag': '\"XpPGQXPnxQJhLgs6enD_n8JR4Qk/NtmtuLNE4u9cqpcUKzoNwyo59wc\"',\n",
       " 'nextPageToken': 'QURTSl9pMGlSb2tNN3ZpMXhGNFE5N1dTZ3h0LTR1VGdKYVZJelNMWVNOeFZEQmtSc2ZYTmtjdm50aF9WaEtMTlg2R0hRdXZVMHFHdW1ZaHVnQ0FVNWx4WG5tNktvaUdyMUZvb0xmTDlLQlNZdXR2Nmc3blo2UkNPTV9NSHg5OTY=',\n",
       " 'pageInfo': {'totalResults': 10, 'resultsPerPage': 10},\n",
       " 'items': [{'kind': 'youtube#commentThread',\n",
       "   'etag': '\"XpPGQXPnxQJhLgs6enD_n8JR4Qk/YbiI0JhrvQRlZgtQ_5aL6VVbK2A\"',\n",
       "   'id': 'Ugzpo5ksOjkrXI4UuLJ4AaABAg',\n",
       "   'snippet': {'videoId': 'BadBAMnPX0I',\n",
       "    'topLevelComment': {'kind': 'youtube#comment',\n",
       "     'etag': '\"XpPGQXPnxQJhLgs6enD_n8JR4Qk/p-dzbeQODaZ5ZCIyWSAIDKN80-o\"',\n",
       "     'id': 'Ugzpo5ksOjkrXI4UuLJ4AaABAg',\n",
       "     'snippet': {'authorDisplayName': 'Lilith Vegan Batgirl',\n",
       "      'authorProfileImageUrl': 'https://yt3.ggpht.com/-dePUOshQr38/AAAAAAAAAAI/AAAAAAAAAAA/Q-5g0AMm5Qw/s28-c-k-no-mo-rj-c0xffffff/photo.jpg',\n",
       "      'authorChannelUrl': 'http://www.youtube.com/channel/UCxOFDZLblryPp3l6VV4njjw',\n",
       "      'authorChannelId': {'value': 'UCxOFDZLblryPp3l6VV4njjw'},\n",
       "      'videoId': 'BadBAMnPX0I',\n",
       "      'textDisplay': '❤️❤️❤️Love it',\n",
       "      'textOriginal': '❤️❤️❤️Love it',\n",
       "      'canRate': True,\n",
       "      'viewerRating': 'none',\n",
       "      'likeCount': 0,\n",
       "      'publishedAt': '2019-02-08T20:06:24.000Z',\n",
       "      'updatedAt': '2019-02-08T20:06:24.000Z'}},\n",
       "    'canReply': True,\n",
       "    'totalReplyCount': 0,\n",
       "    'isPublic': True}},\n",
       "  {'kind': 'youtube#commentThread',\n",
       "   'etag': '\"XpPGQXPnxQJhLgs6enD_n8JR4Qk/ELaxfwRnjHdNzA6PcukCewdMTu8\"',\n",
       "   'id': 'UgxaR67Gig9rT7txjUt4AaABAg',\n",
       "   'snippet': {'videoId': 'BadBAMnPX0I',\n",
       "    'topLevelComment': {'kind': 'youtube#comment',\n",
       "     'etag': '\"XpPGQXPnxQJhLgs6enD_n8JR4Qk/6QqO62uC8NrvSO9_eTSpyXZCZ6M\"',\n",
       "     'id': 'UgxaR67Gig9rT7txjUt4AaABAg',\n",
       "     'snippet': {'authorDisplayName': 'pink_ brother',\n",
       "      'authorProfileImageUrl': 'https://yt3.ggpht.com/-t9FG-DaE6WU/AAAAAAAAAAI/AAAAAAAAAAA/5B9i0IaukqA/s28-c-k-no-mo-rj-c0xffffff/photo.jpg',\n",
       "      'authorChannelUrl': 'http://www.youtube.com/channel/UCpAD62P29OE-hsOLSfXEC0Q',\n",
       "      'authorChannelId': {'value': 'UCpAD62P29OE-hsOLSfXEC0Q'},\n",
       "      'videoId': 'BadBAMnPX0I',\n",
       "      'textDisplay': 'Akshaye khanna is resemble mstly saif ali khan',\n",
       "      'textOriginal': 'Akshaye khanna is resemble mstly saif ali khan',\n",
       "      'canRate': True,\n",
       "      'viewerRating': 'none',\n",
       "      'likeCount': 0,\n",
       "      'publishedAt': '2019-02-08T19:12:43.000Z',\n",
       "      'updatedAt': '2019-02-08T19:12:43.000Z'}},\n",
       "    'canReply': True,\n",
       "    'totalReplyCount': 0,\n",
       "    'isPublic': True}},\n",
       "  {'kind': 'youtube#commentThread',\n",
       "   'etag': '\"XpPGQXPnxQJhLgs6enD_n8JR4Qk/BZ9YIBkTR4hrW9HQ4V-5HNmzCcE\"',\n",
       "   'id': 'UgwloX6BLJp74iF30tt4AaABAg',\n",
       "   'snippet': {'videoId': 'BadBAMnPX0I',\n",
       "    'topLevelComment': {'kind': 'youtube#comment',\n",
       "     'etag': '\"XpPGQXPnxQJhLgs6enD_n8JR4Qk/V5iFCN7MC7Sam9myK3euAJAjlBU\"',\n",
       "     'id': 'UgwloX6BLJp74iF30tt4AaABAg',\n",
       "     'snippet': {'authorDisplayName': 'Zero. O',\n",
       "      'authorProfileImageUrl': 'https://yt3.ggpht.com/-E-KSSt_lx-U/AAAAAAAAAAI/AAAAAAAAAAA/EBOnGk4SPjs/s28-c-k-no-mo-rj-c0xffffff/photo.jpg',\n",
       "      'authorChannelUrl': 'http://www.youtube.com/channel/UCUWVrlBVOzimiwWa13Ig7pw',\n",
       "      'authorChannelId': {'value': 'UCUWVrlBVOzimiwWa13Ig7pw'},\n",
       "      'videoId': 'BadBAMnPX0I',\n",
       "      'textDisplay': 'This song will never getting old 😍😍',\n",
       "      'textOriginal': 'This song will never getting old 😍😍',\n",
       "      'canRate': True,\n",
       "      'viewerRating': 'none',\n",
       "      'likeCount': 0,\n",
       "      'publishedAt': '2019-02-08T15:27:39.000Z',\n",
       "      'updatedAt': '2019-02-08T15:27:39.000Z'}},\n",
       "    'canReply': True,\n",
       "    'totalReplyCount': 0,\n",
       "    'isPublic': True}},\n",
       "  {'kind': 'youtube#commentThread',\n",
       "   'etag': '\"XpPGQXPnxQJhLgs6enD_n8JR4Qk/Yxb1Yohme2-rkKEQZNmngvTjPL4\"',\n",
       "   'id': 'UgwNDmF1wHaMm3vHW4B4AaABAg',\n",
       "   'snippet': {'videoId': 'BadBAMnPX0I',\n",
       "    'topLevelComment': {'kind': 'youtube#comment',\n",
       "     'etag': '\"XpPGQXPnxQJhLgs6enD_n8JR4Qk/tRvaZAA_Pr2riRiZDlTXXKWibxU\"',\n",
       "     'id': 'UgwNDmF1wHaMm3vHW4B4AaABAg',\n",
       "     'snippet': {'authorDisplayName': 'Md aslam Ansari',\n",
       "      'authorProfileImageUrl': 'https://yt3.ggpht.com/-up8aeWjD52Y/AAAAAAAAAAI/AAAAAAAAAAA/Bk8rxuczWeU/s28-c-k-no-mo-rj-c0xffffff/photo.jpg',\n",
       "      'authorChannelUrl': 'http://www.youtube.com/channel/UCKxW-6ZQ3ZI_1hJE0NLYKYw',\n",
       "      'authorChannelId': {'value': 'UCKxW-6ZQ3ZI_1hJE0NLYKYw'},\n",
       "      'videoId': 'BadBAMnPX0I',\n",
       "      'textDisplay': 'Nice',\n",
       "      'textOriginal': 'Nice',\n",
       "      'canRate': True,\n",
       "      'viewerRating': 'none',\n",
       "      'likeCount': 0,\n",
       "      'publishedAt': '2019-02-08T14:35:02.000Z',\n",
       "      'updatedAt': '2019-02-08T14:35:02.000Z'}},\n",
       "    'canReply': True,\n",
       "    'totalReplyCount': 0,\n",
       "    'isPublic': True}},\n",
       "  {'kind': 'youtube#commentThread',\n",
       "   'etag': '\"XpPGQXPnxQJhLgs6enD_n8JR4Qk/n7BBZ59L3i8xZ7wkTVMiN0w64oo\"',\n",
       "   'id': 'UgxhEly7G1G6U8eBhax4AaABAg',\n",
       "   'snippet': {'videoId': 'BadBAMnPX0I',\n",
       "    'topLevelComment': {'kind': 'youtube#comment',\n",
       "     'etag': '\"XpPGQXPnxQJhLgs6enD_n8JR4Qk/2b5iZoe8QTrsfSZqyp2_qqwZxCw\"',\n",
       "     'id': 'UgxhEly7G1G6U8eBhax4AaABAg',\n",
       "     'snippet': {'authorDisplayName': 'Mdsujon Mahmud',\n",
       "      'authorProfileImageUrl': 'https://yt3.ggpht.com/-hhuBuxw9AMM/AAAAAAAAAAI/AAAAAAAAAAA/cEnhK1KCB58/s28-c-k-no-mo-rj-c0xffffff/photo.jpg',\n",
       "      'authorChannelUrl': 'http://www.youtube.com/channel/UCAg39H_iDE-xvOSwX25lJpg',\n",
       "      'authorChannelId': {'value': 'UCAg39H_iDE-xvOSwX25lJpg'},\n",
       "      'videoId': 'BadBAMnPX0I',\n",
       "      'textDisplay': 'Anyone here&#39;s February 2019...',\n",
       "      'textOriginal': \"Anyone here's February 2019...\",\n",
       "      'canRate': True,\n",
       "      'viewerRating': 'none',\n",
       "      'likeCount': 1,\n",
       "      'publishedAt': '2019-02-08T14:07:20.000Z',\n",
       "      'updatedAt': '2019-02-08T14:07:20.000Z'}},\n",
       "    'canReply': True,\n",
       "    'totalReplyCount': 0,\n",
       "    'isPublic': True}},\n",
       "  {'kind': 'youtube#commentThread',\n",
       "   'etag': '\"XpPGQXPnxQJhLgs6enD_n8JR4Qk/nqkJJXgEI38dwB1F4Sncn2pIkC4\"',\n",
       "   'id': 'UgyBsC6vOPy1ygfWusx4AaABAg',\n",
       "   'snippet': {'videoId': 'BadBAMnPX0I',\n",
       "    'topLevelComment': {'kind': 'youtube#comment',\n",
       "     'etag': '\"XpPGQXPnxQJhLgs6enD_n8JR4Qk/sZpP5JhWLsrOy6gm9fMDIwv6I6s\"',\n",
       "     'id': 'UgyBsC6vOPy1ygfWusx4AaABAg',\n",
       "     'snippet': {'authorDisplayName': 'Hasan Ansari',\n",
       "      'authorProfileImageUrl': 'https://yt3.ggpht.com/-gVHYqRJqOvo/AAAAAAAAAAI/AAAAAAAAAAA/cw7XHbASry8/s28-c-k-no-mo-rj-c0xffffff/photo.jpg',\n",
       "      'authorChannelUrl': 'http://www.youtube.com/channel/UCDgF8YIz3sB2xcuwLNLeueA',\n",
       "      'authorChannelId': {'value': 'UCDgF8YIz3sB2xcuwLNLeueA'},\n",
       "      'videoId': 'BadBAMnPX0I',\n",
       "      'textDisplay': 'Arijit singh',\n",
       "      'textOriginal': 'Arijit singh',\n",
       "      'canRate': True,\n",
       "      'viewerRating': 'none',\n",
       "      'likeCount': 0,\n",
       "      'publishedAt': '2019-02-08T13:34:32.000Z',\n",
       "      'updatedAt': '2019-02-08T13:34:32.000Z'}},\n",
       "    'canReply': True,\n",
       "    'totalReplyCount': 0,\n",
       "    'isPublic': True}},\n",
       "  {'kind': 'youtube#commentThread',\n",
       "   'etag': '\"XpPGQXPnxQJhLgs6enD_n8JR4Qk/wOvaFL-xI_b18OQY003JOXx5IKU\"',\n",
       "   'id': 'Ugxw1Z7buHcDBfwV8Dx4AaABAg',\n",
       "   'snippet': {'videoId': 'BadBAMnPX0I',\n",
       "    'topLevelComment': {'kind': 'youtube#comment',\n",
       "     'etag': '\"XpPGQXPnxQJhLgs6enD_n8JR4Qk/9VPtbd0X9fktICux3rNgYluKVPQ\"',\n",
       "     'id': 'Ugxw1Z7buHcDBfwV8Dx4AaABAg',\n",
       "     'snippet': {'authorDisplayName': 'midhun sulaiman',\n",
       "      'authorProfileImageUrl': 'https://yt3.ggpht.com/-L4Qo6ywehXE/AAAAAAAAAAI/AAAAAAAAAAA/cXM9JiZbwq4/s28-c-k-no-mo-rj-c0xffffff/photo.jpg',\n",
       "      'authorChannelUrl': 'http://www.youtube.com/channel/UCkJl-KOnzMiiAZl-Eh6bxLg',\n",
       "      'authorChannelId': {'value': 'UCkJl-KOnzMiiAZl-Eh6bxLg'},\n",
       "      'videoId': 'BadBAMnPX0I',\n",
       "      'textDisplay': 'Feb 14 2019💘❤',\n",
       "      'textOriginal': 'Feb 14 2019💘❤',\n",
       "      'canRate': True,\n",
       "      'viewerRating': 'none',\n",
       "      'likeCount': 0,\n",
       "      'publishedAt': '2019-02-08T12:45:20.000Z',\n",
       "      'updatedAt': '2019-02-08T12:45:20.000Z'}},\n",
       "    'canReply': True,\n",
       "    'totalReplyCount': 0,\n",
       "    'isPublic': True}},\n",
       "  {'kind': 'youtube#commentThread',\n",
       "   'etag': '\"XpPGQXPnxQJhLgs6enD_n8JR4Qk/90lsOze1s30zopQEB2HOzsxWb4Q\"',\n",
       "   'id': 'UgzxMz7c2CcliWWHocV4AaABAg',\n",
       "   'snippet': {'videoId': 'BadBAMnPX0I',\n",
       "    'topLevelComment': {'kind': 'youtube#comment',\n",
       "     'etag': '\"XpPGQXPnxQJhLgs6enD_n8JR4Qk/QX7kI7OP-GSYz5zOBJe_14ddC1Q\"',\n",
       "     'id': 'UgzxMz7c2CcliWWHocV4AaABAg',\n",
       "     'snippet': {'authorDisplayName': 'PIXIES SALON',\n",
       "      'authorProfileImageUrl': 'https://yt3.ggpht.com/-VsKDb4Muy_0/AAAAAAAAAAI/AAAAAAAAAAA/IFh0zYjJVuk/s28-c-k-no-mo-rj-c0xffffff/photo.jpg',\n",
       "      'authorChannelUrl': 'http://www.youtube.com/channel/UCKAXmE7fqGNwkumM021MN2w',\n",
       "      'authorChannelId': {'value': 'UCKAXmE7fqGNwkumM021MN2w'},\n",
       "      'videoId': 'BadBAMnPX0I',\n",
       "      'textDisplay': 'Nice song',\n",
       "      'textOriginal': 'Nice song',\n",
       "      'canRate': True,\n",
       "      'viewerRating': 'none',\n",
       "      'likeCount': 0,\n",
       "      'publishedAt': '2019-02-08T12:27:48.000Z',\n",
       "      'updatedAt': '2019-02-08T12:27:48.000Z'}},\n",
       "    'canReply': True,\n",
       "    'totalReplyCount': 0,\n",
       "    'isPublic': True}},\n",
       "  {'kind': 'youtube#commentThread',\n",
       "   'etag': '\"XpPGQXPnxQJhLgs6enD_n8JR4Qk/5kk48AdoQWSE0E0yvooHztxtUGk\"',\n",
       "   'id': 'UgyAaIn7s6GulkYXrDN4AaABAg',\n",
       "   'snippet': {'videoId': 'BadBAMnPX0I',\n",
       "    'topLevelComment': {'kind': 'youtube#comment',\n",
       "     'etag': '\"XpPGQXPnxQJhLgs6enD_n8JR4Qk/Zq-k2ohHjXtpQGwIaYSddYJvm6A\"',\n",
       "     'id': 'UgyAaIn7s6GulkYXrDN4AaABAg',\n",
       "     'snippet': {'authorDisplayName': 'Ayusha Kotangle',\n",
       "      'authorProfileImageUrl': 'https://yt3.ggpht.com/-79N0NpZKxzI/AAAAAAAAAAI/AAAAAAAAAAA/bQjP2KHW1JM/s28-c-k-no-mo-rj-c0xffffff/photo.jpg',\n",
       "      'authorChannelUrl': 'http://www.youtube.com/channel/UCfXo9kgRslLWz5OKxCcbYHQ',\n",
       "      'authorChannelId': {'value': 'UCfXo9kgRslLWz5OKxCcbYHQ'},\n",
       "      'videoId': 'BadBAMnPX0I',\n",
       "      'textDisplay': '❤️❤️❤️❤️',\n",
       "      'textOriginal': '❤️❤️❤️❤️',\n",
       "      'canRate': True,\n",
       "      'viewerRating': 'none',\n",
       "      'likeCount': 0,\n",
       "      'publishedAt': '2019-02-08T10:12:28.000Z',\n",
       "      'updatedAt': '2019-02-08T10:12:28.000Z'}},\n",
       "    'canReply': True,\n",
       "    'totalReplyCount': 0,\n",
       "    'isPublic': True}},\n",
       "  {'kind': 'youtube#commentThread',\n",
       "   'etag': '\"XpPGQXPnxQJhLgs6enD_n8JR4Qk/41yLUKQF7weEd-SRYfpPwAJaCXY\"',\n",
       "   'id': 'Ugx66WBoj0ZDhb37fBx4AaABAg',\n",
       "   'snippet': {'videoId': 'BadBAMnPX0I',\n",
       "    'topLevelComment': {'kind': 'youtube#comment',\n",
       "     'etag': '\"XpPGQXPnxQJhLgs6enD_n8JR4Qk/YGsnjjzjqzyOKP8xjk8--tsx_gg\"',\n",
       "     'id': 'Ugx66WBoj0ZDhb37fBx4AaABAg',\n",
       "     'snippet': {'authorDisplayName': 'Ayusha Kotangle',\n",
       "      'authorProfileImageUrl': 'https://yt3.ggpht.com/-79N0NpZKxzI/AAAAAAAAAAI/AAAAAAAAAAA/bQjP2KHW1JM/s28-c-k-no-mo-rj-c0xffffff/photo.jpg',\n",
       "      'authorChannelUrl': 'http://www.youtube.com/channel/UCfXo9kgRslLWz5OKxCcbYHQ',\n",
       "      'authorChannelId': {'value': 'UCfXo9kgRslLWz5OKxCcbYHQ'},\n",
       "      'videoId': 'BadBAMnPX0I',\n",
       "      'textDisplay': '❤️❤️❤️❤️',\n",
       "      'textOriginal': '❤️❤️❤️❤️',\n",
       "      'canRate': True,\n",
       "      'viewerRating': 'none',\n",
       "      'likeCount': 0,\n",
       "      'publishedAt': '2019-02-08T10:12:25.000Z',\n",
       "      'updatedAt': '2019-02-08T10:12:25.000Z'}},\n",
       "    'canReply': True,\n",
       "    'totalReplyCount': 0,\n",
       "    'isPublic': True}}]}"
      ]
     },
     "execution_count": 29,
     "metadata": {},
     "output_type": "execute_result"
    }
   ],
   "source": [
    "comments = page_info.json()\n",
    "comments"
   ]
  },
  {
   "cell_type": "code",
   "execution_count": 30,
   "metadata": {},
   "outputs": [
    {
     "name": "stdout",
     "output_type": "stream",
     "text": [
      "❤️❤️❤️Love it\n",
      "Akshaye khanna is resemble mstly saif ali khan\n",
      "This song will never getting old 😍😍\n",
      "Nice\n",
      "Anyone here's February 2019...\n",
      "Arijit singh\n",
      "Feb 14 2019💘❤\n",
      "Nice song\n",
      "❤️❤️❤️❤️\n",
      "❤️❤️❤️❤️\n"
     ]
    }
   ],
   "source": [
    "for comment in comments['items']:\n",
    "    print(comment['snippet']['topLevelComment']['snippet']['textOriginal'])"
   ]
  },
  {
   "cell_type": "code",
   "execution_count": 31,
   "metadata": {},
   "outputs": [
    {
     "name": "stdout",
     "output_type": "stream",
     "text": [
      "['❤️❤️❤️Love it', 'Akshaye khanna is resemble mstly saif ali khan', 'This song will never getting old 😍😍', 'Nice', \"Anyone here's February 2019...\", 'Arijit singh', 'Feb 14 2019💘❤', 'Nice song', '❤️❤️❤️❤️', '❤️❤️❤️❤️']\n"
     ]
    }
   ],
   "source": [
    "unfiltered_comments = []\n",
    "for comment in comments['items']:\n",
    "    unfiltered_comments.append(comment['snippet']['topLevelComment']['snippet']['textOriginal'])\n",
    "print(unfiltered_comments)"
   ]
  },
  {
   "cell_type": "code",
   "execution_count": 32,
   "metadata": {
    "scrolled": true
   },
   "outputs": [
    {
     "name": "stderr",
     "output_type": "stream",
     "text": [
      "[nltk_data] Downloading package punkt to\n",
      "[nltk_data]     C:\\Users\\PRATEEK\\AppData\\Roaming\\nltk_data...\n",
      "[nltk_data]   Package punkt is already up-to-date!\n"
     ]
    }
   ],
   "source": [
    "import nltk\n",
    "nltk.download('punkt')\n",
    "import pandas as pd\n",
    "import string"
   ]
  },
  {
   "cell_type": "code",
   "execution_count": 33,
   "metadata": {
    "scrolled": false
   },
   "outputs": [
    {
     "data": {
      "text/plain": [
       "['❤️❤️❤️Love',\n",
       " 'it',\n",
       " 'Akshaye',\n",
       " 'khanna',\n",
       " 'is',\n",
       " 'resemble',\n",
       " 'mstly',\n",
       " 'saif',\n",
       " 'ali',\n",
       " 'khan',\n",
       " 'This',\n",
       " 'song',\n",
       " 'will',\n",
       " 'never',\n",
       " 'getting',\n",
       " 'old',\n",
       " '😍😍',\n",
       " 'Nice',\n",
       " 'Anyone',\n",
       " 'here',\n",
       " \"'s\",\n",
       " 'February',\n",
       " '2019',\n",
       " '...',\n",
       " 'Arijit',\n",
       " 'singh',\n",
       " 'Feb',\n",
       " '14',\n",
       " '2019💘❤',\n",
       " 'Nice',\n",
       " 'song',\n",
       " '❤️❤️❤️❤️',\n",
       " '❤️❤️❤️❤️']"
      ]
     },
     "execution_count": 33,
     "metadata": {},
     "output_type": "execute_result"
    }
   ],
   "source": [
    "from nltk.tokenize import word_tokenize\n",
    "tokenized_text = ' '.join(word for word in unfiltered_comments)\n",
    "tokenized_word = word_tokenize(tokenized_text)\n",
    "tokenized_word"
   ]
  },
  {
   "cell_type": "code",
   "execution_count": 34,
   "metadata": {},
   "outputs": [
    {
     "data": {
      "text/plain": [
       "['Love',\n",
       " 'it',\n",
       " 'Akshaye',\n",
       " 'khanna',\n",
       " 'is',\n",
       " 'resemble',\n",
       " 'mstly',\n",
       " 'saif',\n",
       " 'ali',\n",
       " 'khan',\n",
       " 'This',\n",
       " 'song',\n",
       " 'will',\n",
       " 'never',\n",
       " 'getting',\n",
       " 'old',\n",
       " 'Nice',\n",
       " 'Anyone',\n",
       " 'here',\n",
       " 's',\n",
       " 'February',\n",
       " '2019',\n",
       " 'Arijit',\n",
       " 'singh',\n",
       " 'Feb',\n",
       " '14',\n",
       " '2019',\n",
       " 'Nice',\n",
       " 'song']"
      ]
     },
     "execution_count": 34,
     "metadata": {},
     "output_type": "execute_result"
    }
   ],
   "source": [
    "from nltk.tokenize import RegexpTokenizer\n",
    "\n",
    "tokenizer = RegexpTokenizer(r'\\w+')\n",
    "removing_emojis = tokenizer.tokenize(tokenized_text)\n",
    "removing_emojis"
   ]
  },
  {
   "cell_type": "code",
   "execution_count": 35,
   "metadata": {},
   "outputs": [
    {
     "name": "stdout",
     "output_type": "stream",
     "text": [
      "<FreqDist with 26 samples and 29 outcomes>\n"
     ]
    },
    {
     "data": {
      "text/plain": [
       "[('song', 2), ('Nice', 2)]"
      ]
     },
     "execution_count": 35,
     "metadata": {},
     "output_type": "execute_result"
    }
   ],
   "source": [
    "from nltk.probability import FreqDist\n",
    "fdist = FreqDist(removing_emojis)\n",
    "print(fdist)\n",
    "fdist.most_common(2)"
   ]
  },
  {
   "cell_type": "code",
   "execution_count": 36,
   "metadata": {},
   "outputs": [
    {
     "data": {
      "image/png": "[encoded data removed]",
      "text/plain": [
       "<Figure size 432x288 with 1 Axes>"
      ]
     },
     "metadata": {
      "needs_background": "light"
     },
     "output_type": "display_data"
    }
   ],
   "source": [
    "%matplotlib inline\n",
    "import matplotlib.pyplot as plt\n",
    "fdist.plot(30,cumulative=False)\n",
    "plt.show()"
   ]
  },
  {
   "cell_type": "markdown",
   "metadata": {},
   "source": [
    "### removing stopwords"
   ]
  },
  {
   "cell_type": "code",
   "execution_count": 37,
   "metadata": {},
   "outputs": [
    {
     "name": "stderr",
     "output_type": "stream",
     "text": [
      "[nltk_data] Downloading package stopwords to\n",
      "[nltk_data]     C:\\Users\\PRATEEK\\AppData\\Roaming\\nltk_data...\n",
      "[nltk_data]   Package stopwords is already up-to-date!\n"
     ]
    }
   ],
   "source": [
    "from nltk.corpus import stopwords\n",
    "nltk.download('stopwords')\n",
    "stop_words=set(stopwords.words(\"english\"))"
   ]
  },
  {
   "cell_type": "code",
   "execution_count": 38,
   "metadata": {},
   "outputs": [
    {
     "name": "stdout",
     "output_type": "stream",
     "text": [
      "Filterd words: ['Love', 'Akshaye', 'khanna', 'resemble', 'mstly', 'saif', 'ali', 'khan', 'This', 'song', 'never', 'getting', 'old', 'Nice', 'Anyone', 'February', '2019', 'Arijit', 'singh', 'Feb', '14', '2019', 'Nice', 'song']\n",
      "24\n"
     ]
    }
   ],
   "source": [
    "filtered_words=[]\n",
    "for words in removing_emojis:\n",
    "    if words not in stop_words:\n",
    "        filtered_words.append(words)\n",
    "\n",
    "print(\"Filterd words:\",filtered_words)\n",
    "print(len(filtered_words))"
   ]
  },
  {
   "cell_type": "code",
   "execution_count": 39,
   "metadata": {},
   "outputs": [
    {
     "data": {
      "image/png": "[encoded data removed]",
      "text/plain": [
       "<Figure size 432x288 with 1 Axes>"
      ]
     },
     "metadata": {
      "needs_background": "light"
     },
     "output_type": "display_data"
    }
   ],
   "source": [
    "fdist = FreqDist(filtered_words)\n",
    "fdist.plot(30,cumulative=False)\n",
    "plt.show()"
   ]
  },
  {
   "cell_type": "code",
   "execution_count": 40,
   "metadata": {},
   "outputs": [
    {
     "name": "stdout",
     "output_type": "stream",
     "text": [
      "21\n"
     ]
    },
    {
     "data": {
      "text/plain": [
       "{'14',\n",
       " '2019',\n",
       " 'Akshaye',\n",
       " 'Anyone',\n",
       " 'Arijit',\n",
       " 'Feb',\n",
       " 'February',\n",
       " 'Love',\n",
       " 'Nice',\n",
       " 'This',\n",
       " 'ali',\n",
       " 'getting',\n",
       " 'khan',\n",
       " 'khanna',\n",
       " 'mstly',\n",
       " 'never',\n",
       " 'old',\n",
       " 'resemble',\n",
       " 'saif',\n",
       " 'singh',\n",
       " 'song'}"
      ]
     },
     "execution_count": 40,
     "metadata": {},
     "output_type": "execute_result"
    }
   ],
   "source": [
    "print(len(set(filtered_words)))\n",
    "set(filtered_words)"
   ]
  },
  {
   "cell_type": "markdown",
   "metadata": {},
   "source": [
    "### Stemming v/s Lemmatization"
   ]
  },
  {
   "cell_type": "markdown",
   "metadata": {},
   "source": [
    "### Stemming"
   ]
  },
  {
   "cell_type": "code",
   "execution_count": 41,
   "metadata": {},
   "outputs": [
    {
     "name": "stdout",
     "output_type": "stream",
     "text": [
      "Stemmed Words: ['love', 'akshay', 'khanna', 'resembl', 'mstli', 'saif', 'ali', 'khan', 'thi', 'song', 'never', 'get', 'old', 'nice', 'anyon', 'februari', '2019', 'arijit', 'singh', 'feb', '14', '2019', 'nice', 'song']\n"
     ]
    }
   ],
   "source": [
    "from nltk.stem import PorterStemmer\n",
    "from nltk.tokenize import word_tokenize\n",
    "ps = PorterStemmer()\n",
    "\n",
    "stemmed_words=[]\n",
    "for word in filtered_words:\n",
    "    stemmed_words.append(ps.stem(word))\n",
    "    \n",
    "print(\"Stemmed Words:\",stemmed_words)"
   ]
  },
  {
   "cell_type": "markdown",
   "metadata": {},
   "source": [
    "### Lemmatization"
   ]
  },
  {
   "cell_type": "code",
   "execution_count": 42,
   "metadata": {},
   "outputs": [
    {
     "name": "stdout",
     "output_type": "stream",
     "text": [
      "Lemmatized Words: ['Love', 'Akshaye', 'khanna', 'resemble', 'mstly', 'saif', 'ali', 'khan', 'This', 'song', 'never', 'get', 'old', 'Nice', 'Anyone', 'February', '2019', 'Arijit', 'singh', 'Feb', '14', '2019', 'Nice', 'song']\n"
     ]
    },
    {
     "name": "stderr",
     "output_type": "stream",
     "text": [
      "[nltk_data] Downloading package wordnet to\n",
      "[nltk_data]     C:\\Users\\PRATEEK\\AppData\\Roaming\\nltk_data...\n",
      "[nltk_data]   Package wordnet is already up-to-date!\n"
     ]
    }
   ],
   "source": [
    "from nltk.stem.wordnet import WordNetLemmatizer\n",
    "nltk.download('wordnet')\n",
    "lem = WordNetLemmatizer()\n",
    "\n",
    "lemmatized_words = []\n",
    "for word in filtered_words:\n",
    "    lemmatized_words.append(lem.lemmatize(word,\"v\"))\n",
    "    \n",
    "print(\"Lemmatized Words:\",lemmatized_words)"
   ]
  },
  {
   "cell_type": "markdown",
   "metadata": {},
   "source": [
    "### POS Tagging"
   ]
  },
  {
   "cell_type": "code",
   "execution_count": 43,
   "metadata": {},
   "outputs": [
    {
     "name": "stderr",
     "output_type": "stream",
     "text": [
      "[nltk_data] Downloading package averaged_perceptron_tagger to\n",
      "[nltk_data]     C:\\Users\\PRATEEK\\AppData\\Roaming\\nltk_data...\n",
      "[nltk_data]   Package averaged_perceptron_tagger is already up-to-\n",
      "[nltk_data]       date!\n"
     ]
    },
    {
     "data": {
      "text/plain": [
       "[('❤️❤️❤️Love', 'VB'),\n",
       " ('it', 'PRP'),\n",
       " ('Akshaye', 'NNP'),\n",
       " ('khanna', 'NN'),\n",
       " ('is', 'VBZ'),\n",
       " ('resemble', 'JJ'),\n",
       " ('mstly', 'RB'),\n",
       " ('saif', 'VBP'),\n",
       " ('ali', 'RB'),\n",
       " ('khan', 'VB'),\n",
       " ('This', 'DT'),\n",
       " ('song', 'NN'),\n",
       " ('will', 'MD'),\n",
       " ('never', 'RB'),\n",
       " ('getting', 'VBG'),\n",
       " ('old', 'JJ'),\n",
       " ('😍😍', 'JJ'),\n",
       " ('Nice', 'NNP'),\n",
       " ('Anyone', 'NNP'),\n",
       " ('here', 'RB'),\n",
       " (\"'s\", 'VBZ'),\n",
       " ('February', 'NNP'),\n",
       " ('2019', 'CD'),\n",
       " ('...', ':'),\n",
       " ('Arijit', 'NNP'),\n",
       " ('singh', 'VBD'),\n",
       " ('Feb', 'NNP'),\n",
       " ('14', 'CD'),\n",
       " ('2019💘❤', 'CD'),\n",
       " ('Nice', 'NNP'),\n",
       " ('song', 'NN'),\n",
       " ('❤️❤️❤️❤️', 'NN'),\n",
       " ('❤️❤️❤️❤️', 'NN')]"
      ]
     },
     "execution_count": 43,
     "metadata": {},
     "output_type": "execute_result"
    }
   ],
   "source": [
    "nltk.download('averaged_perceptron_tagger')\n",
    "nltk.pos_tag(tokenized_word)"
   ]
  },
  {
   "cell_type": "markdown",
   "metadata": {},
   "source": [
    "## Sentiment Analysis using Machine learning"
   ]
  },
  {
   "cell_type": "markdown",
   "metadata": {},
   "source": [
    "## Multi-Nomial Naive Bayes Classification "
   ]
  },
  {
   "cell_type": "markdown",
   "metadata": {},
   "source": [
    "### 0 - negative 1 - somewhat negative 2 - neutral 3 - somewhat positive 4 - positive"
   ]
  },
  {
   "cell_type": "code",
   "execution_count": 45,
   "metadata": {},
   "outputs": [],
   "source": [
    "data=pd.read_csv('train.tsv', sep='\\t')"
   ]
  },
  {
   "cell_type": "code",
   "execution_count": 46,
   "metadata": {},
   "outputs": [
    {
     "data": {
      "text/html": [
       "<div>\n",
       "<style scoped>\n",
       "    .dataframe tbody tr th:only-of-type {\n",
       "        vertical-align: middle;\n",
       "    }\n",
       "\n",
       "    .dataframe tbody tr th {\n",
       "        vertical-align: top;\n",
       "    }\n",
       "\n",
       "    .dataframe thead th {\n",
       "        text-align: right;\n",
       "    }\n",
       "</style>\n",
       "<table border=\"1\" class=\"dataframe\">\n",
       "  <thead>\n",
       "    <tr style=\"text-align: right;\">\n",
       "      <th></th>\n",
       "      <th>PhraseId</th>\n",
       "      <th>SentenceId</th>\n",
       "      <th>Phrase</th>\n",
       "      <th>Sentiment</th>\n",
       "    </tr>\n",
       "  </thead>\n",
       "  <tbody>\n",
       "    <tr>\n",
       "      <th>0</th>\n",
       "      <td>1</td>\n",
       "      <td>1</td>\n",
       "      <td>A series of escapades demonstrating the adage ...</td>\n",
       "      <td>1</td>\n",
       "    </tr>\n",
       "    <tr>\n",
       "      <th>1</th>\n",
       "      <td>2</td>\n",
       "      <td>1</td>\n",
       "      <td>A series of escapades demonstrating the adage ...</td>\n",
       "      <td>2</td>\n",
       "    </tr>\n",
       "    <tr>\n",
       "      <th>2</th>\n",
       "      <td>3</td>\n",
       "      <td>1</td>\n",
       "      <td>A series</td>\n",
       "      <td>2</td>\n",
       "    </tr>\n",
       "    <tr>\n",
       "      <th>3</th>\n",
       "      <td>4</td>\n",
       "      <td>1</td>\n",
       "      <td>A</td>\n",
       "      <td>2</td>\n",
       "    </tr>\n",
       "    <tr>\n",
       "      <th>4</th>\n",
       "      <td>5</td>\n",
       "      <td>1</td>\n",
       "      <td>series</td>\n",
       "      <td>2</td>\n",
       "    </tr>\n",
       "  </tbody>\n",
       "</table>\n",
       "</div>"
      ],
      "text/plain": [
       "   PhraseId  SentenceId                                             Phrase  \\\n",
       "0         1           1  A series of escapades demonstrating the adage ...   \n",
       "1         2           1  A series of escapades demonstrating the adage ...   \n",
       "2         3           1                                           A series   \n",
       "3         4           1                                                  A   \n",
       "4         5           1                                             series   \n",
       "\n",
       "   Sentiment  \n",
       "0          1  \n",
       "1          2  \n",
       "2          2  \n",
       "3          2  \n",
       "4          2  "
      ]
     },
     "execution_count": 46,
     "metadata": {},
     "output_type": "execute_result"
    }
   ],
   "source": [
    "data.head()"
   ]
  },
  {
   "cell_type": "code",
   "execution_count": 47,
   "metadata": {},
   "outputs": [
    {
     "name": "stdout",
     "output_type": "stream",
     "text": [
      "<class 'pandas.core.frame.DataFrame'>\n",
      "RangeIndex: 156060 entries, 0 to 156059\n",
      "Data columns (total 4 columns):\n",
      "PhraseId      156060 non-null int64\n",
      "SentenceId    156060 non-null int64\n",
      "Phrase        156060 non-null object\n",
      "Sentiment     156060 non-null int64\n",
      "dtypes: int64(3), object(1)\n",
      "memory usage: 4.8+ MB\n"
     ]
    }
   ],
   "source": [
    "data.info()"
   ]
  },
  {
   "cell_type": "code",
   "execution_count": 48,
   "metadata": {},
   "outputs": [
    {
     "data": {
      "text/plain": [
       "2    79582\n",
       "3    32927\n",
       "1    27273\n",
       "4     9206\n",
       "0     7072\n",
       "Name: Sentiment, dtype: int64"
      ]
     },
     "execution_count": 48,
     "metadata": {},
     "output_type": "execute_result"
    }
   ],
   "source": [
    "data.Sentiment.value_counts()"
   ]
  },
  {
   "cell_type": "code",
   "execution_count": 49,
   "metadata": {},
   "outputs": [
    {
     "data": {
      "text/html": [
       "<div>\n",
       "<style scoped>\n",
       "    .dataframe tbody tr th:only-of-type {\n",
       "        vertical-align: middle;\n",
       "    }\n",
       "\n",
       "    .dataframe tbody tr th {\n",
       "        vertical-align: top;\n",
       "    }\n",
       "\n",
       "    .dataframe thead th {\n",
       "        text-align: right;\n",
       "    }\n",
       "</style>\n",
       "<table border=\"1\" class=\"dataframe\">\n",
       "  <thead>\n",
       "    <tr style=\"text-align: right;\">\n",
       "      <th></th>\n",
       "      <th>PhraseId</th>\n",
       "      <th>SentenceId</th>\n",
       "      <th>Phrase</th>\n",
       "    </tr>\n",
       "    <tr>\n",
       "      <th>Sentiment</th>\n",
       "      <th></th>\n",
       "      <th></th>\n",
       "      <th></th>\n",
       "    </tr>\n",
       "  </thead>\n",
       "  <tbody>\n",
       "    <tr>\n",
       "      <th>0</th>\n",
       "      <td>7072</td>\n",
       "      <td>7072</td>\n",
       "      <td>7072</td>\n",
       "    </tr>\n",
       "    <tr>\n",
       "      <th>1</th>\n",
       "      <td>27273</td>\n",
       "      <td>27273</td>\n",
       "      <td>27273</td>\n",
       "    </tr>\n",
       "    <tr>\n",
       "      <th>2</th>\n",
       "      <td>79582</td>\n",
       "      <td>79582</td>\n",
       "      <td>79582</td>\n",
       "    </tr>\n",
       "    <tr>\n",
       "      <th>3</th>\n",
       "      <td>32927</td>\n",
       "      <td>32927</td>\n",
       "      <td>32927</td>\n",
       "    </tr>\n",
       "    <tr>\n",
       "      <th>4</th>\n",
       "      <td>9206</td>\n",
       "      <td>9206</td>\n",
       "      <td>9206</td>\n",
       "    </tr>\n",
       "  </tbody>\n",
       "</table>\n",
       "</div>"
      ],
      "text/plain": [
       "           PhraseId  SentenceId  Phrase\n",
       "Sentiment                              \n",
       "0              7072        7072    7072\n",
       "1             27273       27273   27273\n",
       "2             79582       79582   79582\n",
       "3             32927       32927   32927\n",
       "4              9206        9206    9206"
      ]
     },
     "execution_count": 49,
     "metadata": {},
     "output_type": "execute_result"
    }
   ],
   "source": [
    "Sentiment_count=data.groupby('Sentiment').count()\n",
    "Sentiment_count"
   ]
  },
  {
   "cell_type": "code",
   "execution_count": 50,
   "metadata": {},
   "outputs": [
    {
     "data": {
      "image/png": "[encoded data removed]",
      "text/plain": [
       "<Figure size 432x288 with 1 Axes>"
      ]
     },
     "metadata": {
      "needs_background": "light"
     },
     "output_type": "display_data"
    }
   ],
   "source": [
    "plt.bar(Sentiment_count.index.values, Sentiment_count['Phrase'])\n",
    "plt.xlabel('Review Sentiments')\n",
    "plt.ylabel('Number of Review')\n",
    "plt.show()"
   ]
  },
  {
   "cell_type": "code",
   "execution_count": null,
   "metadata": {},
   "outputs": [],
   "source": []
  }
 ],
 "metadata": {
  "kernelspec": {
   "display_name": "Python 3",
   "language": "python",
   "name": "python3"
  },
  "language_info": {
   "codemirror_mode": {
    "name": "ipython",
    "version": 3
   },
   "file_extension": ".py",
   "mimetype": "text/x-python",
   "name": "python",
   "nbconvert_exporter": "python",
   "pygments_lexer": "ipython3",
   "version": "3.6.5"
  }
 },
 "nbformat": 4,
 "nbformat_minor": 2
}
